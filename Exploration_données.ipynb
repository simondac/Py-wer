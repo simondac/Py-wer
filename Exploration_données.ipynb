{
 "cells": [
  {
   "cell_type": "markdown",
   "id": "78eb9901",
   "metadata": {},
   "source": [
    "# Packages et chemins"
   ]
  },
  {
   "cell_type": "code",
   "execution_count": 1,
   "id": "d79bc97b",
   "metadata": {},
   "outputs": [],
   "source": [
    "import pandas as pd\n",
    "import numpy as np\n",
    "from datetime import datetime\n",
    "import matplotlib.pyplot as plt\n",
    "import seaborn as sns\n",
    "import os"
   ]
  },
  {
   "cell_type": "code",
   "execution_count": 2,
   "id": "0753784c",
   "metadata": {},
   "outputs": [],
   "source": [
    "repertoire_data = 'Data\\\\'\n",
    "fichier_meteo = 'weather_out.csv'"
   ]
  },
  {
   "cell_type": "markdown",
   "id": "0c57a7e7",
   "metadata": {},
   "source": [
    "# Fichier RTE"
   ]
  },
  {
   "cell_type": "code",
   "execution_count": 3,
   "id": "67828cf2",
   "metadata": {},
   "outputs": [
    {
     "ename": "OSError",
     "evalue": "[Errno 22] Invalid argument: 'Data\\rte_jour_regions.csv'",
     "output_type": "error",
     "traceback": [
      "\u001b[1;31m---------------------------------------------------------------------------\u001b[0m",
      "\u001b[1;31mOSError\u001b[0m                                   Traceback (most recent call last)",
      "Input \u001b[1;32mIn [3]\u001b[0m, in \u001b[0;36m<module>\u001b[1;34m\u001b[0m\n\u001b[0;32m      1\u001b[0m \u001b[38;5;66;03m# Chargement du df principal, toutes les années, données agrégées au pas journalier\u001b[39;00m\n\u001b[1;32m----> 3\u001b[0m df_rte \u001b[38;5;241m=\u001b[39m \u001b[43mpd\u001b[49m\u001b[38;5;241;43m.\u001b[39;49m\u001b[43mread_csv\u001b[49m\u001b[43m(\u001b[49m\u001b[38;5;124;43m'\u001b[39;49m\u001b[38;5;124;43mData\u001b[39;49m\u001b[38;5;130;43;01m\\r\u001b[39;49;00m\u001b[38;5;124;43mte_jour_regions.csv\u001b[39;49m\u001b[38;5;124;43m'\u001b[39;49m\u001b[43m,\u001b[49m\u001b[43m \u001b[49m\u001b[43msep\u001b[49m\u001b[38;5;241;43m=\u001b[39;49m\u001b[38;5;124;43m'\u001b[39;49m\u001b[38;5;124;43m;\u001b[39;49m\u001b[38;5;124;43m'\u001b[39;49m\u001b[43m,\u001b[49m\u001b[43m \u001b[49m\u001b[43mencoding\u001b[49m\u001b[38;5;241;43m=\u001b[39;49m\u001b[38;5;124;43m'\u001b[39;49m\u001b[38;5;124;43mutf-8\u001b[39;49m\u001b[38;5;124;43m'\u001b[39;49m\u001b[43m)\u001b[49m\n\u001b[0;32m      5\u001b[0m \u001b[38;5;66;03m# Chargement du df avec toutes les années, données agrégées au pas mensuel\u001b[39;00m\n\u001b[0;32m      6\u001b[0m df_rte_mois \u001b[38;5;241m=\u001b[39m pd\u001b[38;5;241m.\u001b[39mread_csv(\u001b[38;5;124m'\u001b[39m\u001b[38;5;124mData\u001b[39m\u001b[38;5;130;01m\\r\u001b[39;00m\u001b[38;5;124mte_mois_regions.csv\u001b[39m\u001b[38;5;124m'\u001b[39m, sep\u001b[38;5;241m=\u001b[39m\u001b[38;5;124m'\u001b[39m\u001b[38;5;124m;\u001b[39m\u001b[38;5;124m'\u001b[39m, encoding\u001b[38;5;241m=\u001b[39m\u001b[38;5;124m'\u001b[39m\u001b[38;5;124mutf-8\u001b[39m\u001b[38;5;124m'\u001b[39m)\n",
      "File \u001b[1;32m~\\AppData\\Local\\Packages\\PythonSoftwareFoundation.Python.3.10_qbz5n2kfra8p0\\LocalCache\\local-packages\\Python310\\site-packages\\pandas\\util\\_decorators.py:311\u001b[0m, in \u001b[0;36mdeprecate_nonkeyword_arguments.<locals>.decorate.<locals>.wrapper\u001b[1;34m(*args, **kwargs)\u001b[0m\n\u001b[0;32m    305\u001b[0m \u001b[38;5;28;01mif\u001b[39;00m \u001b[38;5;28mlen\u001b[39m(args) \u001b[38;5;241m>\u001b[39m num_allow_args:\n\u001b[0;32m    306\u001b[0m     warnings\u001b[38;5;241m.\u001b[39mwarn(\n\u001b[0;32m    307\u001b[0m         msg\u001b[38;5;241m.\u001b[39mformat(arguments\u001b[38;5;241m=\u001b[39marguments),\n\u001b[0;32m    308\u001b[0m         \u001b[38;5;167;01mFutureWarning\u001b[39;00m,\n\u001b[0;32m    309\u001b[0m         stacklevel\u001b[38;5;241m=\u001b[39mstacklevel,\n\u001b[0;32m    310\u001b[0m     )\n\u001b[1;32m--> 311\u001b[0m \u001b[38;5;28;01mreturn\u001b[39;00m func(\u001b[38;5;241m*\u001b[39margs, \u001b[38;5;241m*\u001b[39m\u001b[38;5;241m*\u001b[39mkwargs)\n",
      "File \u001b[1;32m~\\AppData\\Local\\Packages\\PythonSoftwareFoundation.Python.3.10_qbz5n2kfra8p0\\LocalCache\\local-packages\\Python310\\site-packages\\pandas\\io\\parsers\\readers.py:586\u001b[0m, in \u001b[0;36mread_csv\u001b[1;34m(filepath_or_buffer, sep, delimiter, header, names, index_col, usecols, squeeze, prefix, mangle_dupe_cols, dtype, engine, converters, true_values, false_values, skipinitialspace, skiprows, skipfooter, nrows, na_values, keep_default_na, na_filter, verbose, skip_blank_lines, parse_dates, infer_datetime_format, keep_date_col, date_parser, dayfirst, cache_dates, iterator, chunksize, compression, thousands, decimal, lineterminator, quotechar, quoting, doublequote, escapechar, comment, encoding, encoding_errors, dialect, error_bad_lines, warn_bad_lines, on_bad_lines, delim_whitespace, low_memory, memory_map, float_precision, storage_options)\u001b[0m\n\u001b[0;32m    571\u001b[0m kwds_defaults \u001b[38;5;241m=\u001b[39m _refine_defaults_read(\n\u001b[0;32m    572\u001b[0m     dialect,\n\u001b[0;32m    573\u001b[0m     delimiter,\n\u001b[1;32m   (...)\u001b[0m\n\u001b[0;32m    582\u001b[0m     defaults\u001b[38;5;241m=\u001b[39m{\u001b[38;5;124m\"\u001b[39m\u001b[38;5;124mdelimiter\u001b[39m\u001b[38;5;124m\"\u001b[39m: \u001b[38;5;124m\"\u001b[39m\u001b[38;5;124m,\u001b[39m\u001b[38;5;124m\"\u001b[39m},\n\u001b[0;32m    583\u001b[0m )\n\u001b[0;32m    584\u001b[0m kwds\u001b[38;5;241m.\u001b[39mupdate(kwds_defaults)\n\u001b[1;32m--> 586\u001b[0m \u001b[38;5;28;01mreturn\u001b[39;00m \u001b[43m_read\u001b[49m\u001b[43m(\u001b[49m\u001b[43mfilepath_or_buffer\u001b[49m\u001b[43m,\u001b[49m\u001b[43m \u001b[49m\u001b[43mkwds\u001b[49m\u001b[43m)\u001b[49m\n",
      "File \u001b[1;32m~\\AppData\\Local\\Packages\\PythonSoftwareFoundation.Python.3.10_qbz5n2kfra8p0\\LocalCache\\local-packages\\Python310\\site-packages\\pandas\\io\\parsers\\readers.py:482\u001b[0m, in \u001b[0;36m_read\u001b[1;34m(filepath_or_buffer, kwds)\u001b[0m\n\u001b[0;32m    479\u001b[0m _validate_names(kwds\u001b[38;5;241m.\u001b[39mget(\u001b[38;5;124m\"\u001b[39m\u001b[38;5;124mnames\u001b[39m\u001b[38;5;124m\"\u001b[39m, \u001b[38;5;28;01mNone\u001b[39;00m))\n\u001b[0;32m    481\u001b[0m \u001b[38;5;66;03m# Create the parser.\u001b[39;00m\n\u001b[1;32m--> 482\u001b[0m parser \u001b[38;5;241m=\u001b[39m TextFileReader(filepath_or_buffer, \u001b[38;5;241m*\u001b[39m\u001b[38;5;241m*\u001b[39mkwds)\n\u001b[0;32m    484\u001b[0m \u001b[38;5;28;01mif\u001b[39;00m chunksize \u001b[38;5;129;01mor\u001b[39;00m iterator:\n\u001b[0;32m    485\u001b[0m     \u001b[38;5;28;01mreturn\u001b[39;00m parser\n",
      "File \u001b[1;32m~\\AppData\\Local\\Packages\\PythonSoftwareFoundation.Python.3.10_qbz5n2kfra8p0\\LocalCache\\local-packages\\Python310\\site-packages\\pandas\\io\\parsers\\readers.py:811\u001b[0m, in \u001b[0;36mTextFileReader.__init__\u001b[1;34m(self, f, engine, **kwds)\u001b[0m\n\u001b[0;32m    808\u001b[0m \u001b[38;5;28;01mif\u001b[39;00m \u001b[38;5;124m\"\u001b[39m\u001b[38;5;124mhas_index_names\u001b[39m\u001b[38;5;124m\"\u001b[39m \u001b[38;5;129;01min\u001b[39;00m kwds:\n\u001b[0;32m    809\u001b[0m     \u001b[38;5;28mself\u001b[39m\u001b[38;5;241m.\u001b[39moptions[\u001b[38;5;124m\"\u001b[39m\u001b[38;5;124mhas_index_names\u001b[39m\u001b[38;5;124m\"\u001b[39m] \u001b[38;5;241m=\u001b[39m kwds[\u001b[38;5;124m\"\u001b[39m\u001b[38;5;124mhas_index_names\u001b[39m\u001b[38;5;124m\"\u001b[39m]\n\u001b[1;32m--> 811\u001b[0m \u001b[38;5;28mself\u001b[39m\u001b[38;5;241m.\u001b[39m_engine \u001b[38;5;241m=\u001b[39m \u001b[38;5;28;43mself\u001b[39;49m\u001b[38;5;241;43m.\u001b[39;49m\u001b[43m_make_engine\u001b[49m\u001b[43m(\u001b[49m\u001b[38;5;28;43mself\u001b[39;49m\u001b[38;5;241;43m.\u001b[39;49m\u001b[43mengine\u001b[49m\u001b[43m)\u001b[49m\n",
      "File \u001b[1;32m~\\AppData\\Local\\Packages\\PythonSoftwareFoundation.Python.3.10_qbz5n2kfra8p0\\LocalCache\\local-packages\\Python310\\site-packages\\pandas\\io\\parsers\\readers.py:1040\u001b[0m, in \u001b[0;36mTextFileReader._make_engine\u001b[1;34m(self, engine)\u001b[0m\n\u001b[0;32m   1036\u001b[0m     \u001b[38;5;28;01mraise\u001b[39;00m \u001b[38;5;167;01mValueError\u001b[39;00m(\n\u001b[0;32m   1037\u001b[0m         \u001b[38;5;124mf\u001b[39m\u001b[38;5;124m\"\u001b[39m\u001b[38;5;124mUnknown engine: \u001b[39m\u001b[38;5;132;01m{\u001b[39;00mengine\u001b[38;5;132;01m}\u001b[39;00m\u001b[38;5;124m (valid options are \u001b[39m\u001b[38;5;132;01m{\u001b[39;00mmapping\u001b[38;5;241m.\u001b[39mkeys()\u001b[38;5;132;01m}\u001b[39;00m\u001b[38;5;124m)\u001b[39m\u001b[38;5;124m\"\u001b[39m\n\u001b[0;32m   1038\u001b[0m     )\n\u001b[0;32m   1039\u001b[0m \u001b[38;5;66;03m# error: Too many arguments for \"ParserBase\"\u001b[39;00m\n\u001b[1;32m-> 1040\u001b[0m \u001b[38;5;28;01mreturn\u001b[39;00m mapping[engine](\u001b[38;5;28mself\u001b[39m\u001b[38;5;241m.\u001b[39mf, \u001b[38;5;241m*\u001b[39m\u001b[38;5;241m*\u001b[39m\u001b[38;5;28mself\u001b[39m\u001b[38;5;241m.\u001b[39moptions)\n",
      "File \u001b[1;32m~\\AppData\\Local\\Packages\\PythonSoftwareFoundation.Python.3.10_qbz5n2kfra8p0\\LocalCache\\local-packages\\Python310\\site-packages\\pandas\\io\\parsers\\c_parser_wrapper.py:51\u001b[0m, in \u001b[0;36mCParserWrapper.__init__\u001b[1;34m(self, src, **kwds)\u001b[0m\n\u001b[0;32m     48\u001b[0m kwds[\u001b[38;5;124m\"\u001b[39m\u001b[38;5;124musecols\u001b[39m\u001b[38;5;124m\"\u001b[39m] \u001b[38;5;241m=\u001b[39m \u001b[38;5;28mself\u001b[39m\u001b[38;5;241m.\u001b[39musecols\n\u001b[0;32m     50\u001b[0m \u001b[38;5;66;03m# open handles\u001b[39;00m\n\u001b[1;32m---> 51\u001b[0m \u001b[38;5;28;43mself\u001b[39;49m\u001b[38;5;241;43m.\u001b[39;49m\u001b[43m_open_handles\u001b[49m\u001b[43m(\u001b[49m\u001b[43msrc\u001b[49m\u001b[43m,\u001b[49m\u001b[43m \u001b[49m\u001b[43mkwds\u001b[49m\u001b[43m)\u001b[49m\n\u001b[0;32m     52\u001b[0m \u001b[38;5;28;01massert\u001b[39;00m \u001b[38;5;28mself\u001b[39m\u001b[38;5;241m.\u001b[39mhandles \u001b[38;5;129;01mis\u001b[39;00m \u001b[38;5;129;01mnot\u001b[39;00m \u001b[38;5;28;01mNone\u001b[39;00m\n\u001b[0;32m     54\u001b[0m \u001b[38;5;66;03m# Have to pass int, would break tests using TextReader directly otherwise :(\u001b[39;00m\n",
      "File \u001b[1;32m~\\AppData\\Local\\Packages\\PythonSoftwareFoundation.Python.3.10_qbz5n2kfra8p0\\LocalCache\\local-packages\\Python310\\site-packages\\pandas\\io\\parsers\\base_parser.py:222\u001b[0m, in \u001b[0;36mParserBase._open_handles\u001b[1;34m(self, src, kwds)\u001b[0m\n\u001b[0;32m    218\u001b[0m \u001b[38;5;28;01mdef\u001b[39;00m \u001b[38;5;21m_open_handles\u001b[39m(\u001b[38;5;28mself\u001b[39m, src: FilePathOrBuffer, kwds: \u001b[38;5;28mdict\u001b[39m[\u001b[38;5;28mstr\u001b[39m, Any]) \u001b[38;5;241m-\u001b[39m\u001b[38;5;241m>\u001b[39m \u001b[38;5;28;01mNone\u001b[39;00m:\n\u001b[0;32m    219\u001b[0m     \u001b[38;5;124;03m\"\"\"\u001b[39;00m\n\u001b[0;32m    220\u001b[0m \u001b[38;5;124;03m    Let the readers open IOHandles after they are done with their potential raises.\u001b[39;00m\n\u001b[0;32m    221\u001b[0m \u001b[38;5;124;03m    \"\"\"\u001b[39;00m\n\u001b[1;32m--> 222\u001b[0m     \u001b[38;5;28mself\u001b[39m\u001b[38;5;241m.\u001b[39mhandles \u001b[38;5;241m=\u001b[39m \u001b[43mget_handle\u001b[49m\u001b[43m(\u001b[49m\n\u001b[0;32m    223\u001b[0m \u001b[43m        \u001b[49m\u001b[43msrc\u001b[49m\u001b[43m,\u001b[49m\n\u001b[0;32m    224\u001b[0m \u001b[43m        \u001b[49m\u001b[38;5;124;43m\"\u001b[39;49m\u001b[38;5;124;43mr\u001b[39;49m\u001b[38;5;124;43m\"\u001b[39;49m\u001b[43m,\u001b[49m\n\u001b[0;32m    225\u001b[0m \u001b[43m        \u001b[49m\u001b[43mencoding\u001b[49m\u001b[38;5;241;43m=\u001b[39;49m\u001b[43mkwds\u001b[49m\u001b[38;5;241;43m.\u001b[39;49m\u001b[43mget\u001b[49m\u001b[43m(\u001b[49m\u001b[38;5;124;43m\"\u001b[39;49m\u001b[38;5;124;43mencoding\u001b[39;49m\u001b[38;5;124;43m\"\u001b[39;49m\u001b[43m,\u001b[49m\u001b[43m \u001b[49m\u001b[38;5;28;43;01mNone\u001b[39;49;00m\u001b[43m)\u001b[49m\u001b[43m,\u001b[49m\n\u001b[0;32m    226\u001b[0m \u001b[43m        \u001b[49m\u001b[43mcompression\u001b[49m\u001b[38;5;241;43m=\u001b[39;49m\u001b[43mkwds\u001b[49m\u001b[38;5;241;43m.\u001b[39;49m\u001b[43mget\u001b[49m\u001b[43m(\u001b[49m\u001b[38;5;124;43m\"\u001b[39;49m\u001b[38;5;124;43mcompression\u001b[39;49m\u001b[38;5;124;43m\"\u001b[39;49m\u001b[43m,\u001b[49m\u001b[43m \u001b[49m\u001b[38;5;28;43;01mNone\u001b[39;49;00m\u001b[43m)\u001b[49m\u001b[43m,\u001b[49m\n\u001b[0;32m    227\u001b[0m \u001b[43m        \u001b[49m\u001b[43mmemory_map\u001b[49m\u001b[38;5;241;43m=\u001b[39;49m\u001b[43mkwds\u001b[49m\u001b[38;5;241;43m.\u001b[39;49m\u001b[43mget\u001b[49m\u001b[43m(\u001b[49m\u001b[38;5;124;43m\"\u001b[39;49m\u001b[38;5;124;43mmemory_map\u001b[39;49m\u001b[38;5;124;43m\"\u001b[39;49m\u001b[43m,\u001b[49m\u001b[43m \u001b[49m\u001b[38;5;28;43;01mFalse\u001b[39;49;00m\u001b[43m)\u001b[49m\u001b[43m,\u001b[49m\n\u001b[0;32m    228\u001b[0m \u001b[43m        \u001b[49m\u001b[43mstorage_options\u001b[49m\u001b[38;5;241;43m=\u001b[39;49m\u001b[43mkwds\u001b[49m\u001b[38;5;241;43m.\u001b[39;49m\u001b[43mget\u001b[49m\u001b[43m(\u001b[49m\u001b[38;5;124;43m\"\u001b[39;49m\u001b[38;5;124;43mstorage_options\u001b[39;49m\u001b[38;5;124;43m\"\u001b[39;49m\u001b[43m,\u001b[49m\u001b[43m \u001b[49m\u001b[38;5;28;43;01mNone\u001b[39;49;00m\u001b[43m)\u001b[49m\u001b[43m,\u001b[49m\n\u001b[0;32m    229\u001b[0m \u001b[43m        \u001b[49m\u001b[43merrors\u001b[49m\u001b[38;5;241;43m=\u001b[39;49m\u001b[43mkwds\u001b[49m\u001b[38;5;241;43m.\u001b[39;49m\u001b[43mget\u001b[49m\u001b[43m(\u001b[49m\u001b[38;5;124;43m\"\u001b[39;49m\u001b[38;5;124;43mencoding_errors\u001b[39;49m\u001b[38;5;124;43m\"\u001b[39;49m\u001b[43m,\u001b[49m\u001b[43m \u001b[49m\u001b[38;5;124;43m\"\u001b[39;49m\u001b[38;5;124;43mstrict\u001b[39;49m\u001b[38;5;124;43m\"\u001b[39;49m\u001b[43m)\u001b[49m\u001b[43m,\u001b[49m\n\u001b[0;32m    230\u001b[0m \u001b[43m    \u001b[49m\u001b[43m)\u001b[49m\n",
      "File \u001b[1;32m~\\AppData\\Local\\Packages\\PythonSoftwareFoundation.Python.3.10_qbz5n2kfra8p0\\LocalCache\\local-packages\\Python310\\site-packages\\pandas\\io\\common.py:702\u001b[0m, in \u001b[0;36mget_handle\u001b[1;34m(path_or_buf, mode, encoding, compression, memory_map, is_text, errors, storage_options)\u001b[0m\n\u001b[0;32m    697\u001b[0m \u001b[38;5;28;01melif\u001b[39;00m \u001b[38;5;28misinstance\u001b[39m(handle, \u001b[38;5;28mstr\u001b[39m):\n\u001b[0;32m    698\u001b[0m     \u001b[38;5;66;03m# Check whether the filename is to be opened in binary mode.\u001b[39;00m\n\u001b[0;32m    699\u001b[0m     \u001b[38;5;66;03m# Binary mode does not support 'encoding' and 'newline'.\u001b[39;00m\n\u001b[0;32m    700\u001b[0m     \u001b[38;5;28;01mif\u001b[39;00m ioargs\u001b[38;5;241m.\u001b[39mencoding \u001b[38;5;129;01mand\u001b[39;00m \u001b[38;5;124m\"\u001b[39m\u001b[38;5;124mb\u001b[39m\u001b[38;5;124m\"\u001b[39m \u001b[38;5;129;01mnot\u001b[39;00m \u001b[38;5;129;01min\u001b[39;00m ioargs\u001b[38;5;241m.\u001b[39mmode:\n\u001b[0;32m    701\u001b[0m         \u001b[38;5;66;03m# Encoding\u001b[39;00m\n\u001b[1;32m--> 702\u001b[0m         handle \u001b[38;5;241m=\u001b[39m \u001b[38;5;28;43mopen\u001b[39;49m\u001b[43m(\u001b[49m\n\u001b[0;32m    703\u001b[0m \u001b[43m            \u001b[49m\u001b[43mhandle\u001b[49m\u001b[43m,\u001b[49m\n\u001b[0;32m    704\u001b[0m \u001b[43m            \u001b[49m\u001b[43mioargs\u001b[49m\u001b[38;5;241;43m.\u001b[39;49m\u001b[43mmode\u001b[49m\u001b[43m,\u001b[49m\n\u001b[0;32m    705\u001b[0m \u001b[43m            \u001b[49m\u001b[43mencoding\u001b[49m\u001b[38;5;241;43m=\u001b[39;49m\u001b[43mioargs\u001b[49m\u001b[38;5;241;43m.\u001b[39;49m\u001b[43mencoding\u001b[49m\u001b[43m,\u001b[49m\n\u001b[0;32m    706\u001b[0m \u001b[43m            \u001b[49m\u001b[43merrors\u001b[49m\u001b[38;5;241;43m=\u001b[39;49m\u001b[43merrors\u001b[49m\u001b[43m,\u001b[49m\n\u001b[0;32m    707\u001b[0m \u001b[43m            \u001b[49m\u001b[43mnewline\u001b[49m\u001b[38;5;241;43m=\u001b[39;49m\u001b[38;5;124;43m\"\u001b[39;49m\u001b[38;5;124;43m\"\u001b[39;49m\u001b[43m,\u001b[49m\n\u001b[0;32m    708\u001b[0m \u001b[43m        \u001b[49m\u001b[43m)\u001b[49m\n\u001b[0;32m    709\u001b[0m     \u001b[38;5;28;01melse\u001b[39;00m:\n\u001b[0;32m    710\u001b[0m         \u001b[38;5;66;03m# Binary mode\u001b[39;00m\n\u001b[0;32m    711\u001b[0m         handle \u001b[38;5;241m=\u001b[39m \u001b[38;5;28mopen\u001b[39m(handle, ioargs\u001b[38;5;241m.\u001b[39mmode)\n",
      "\u001b[1;31mOSError\u001b[0m: [Errno 22] Invalid argument: 'Data\\rte_jour_regions.csv'"
     ]
    }
   ],
   "source": [
    "# Chargement du df principal, toutes les années, données agrégées au pas journalier\n",
    " \n",
    "df_rte = pd.read_csv('Data\\rte_jour_regions.csv', sep=';', encoding='utf-8')\n",
    "\n",
    "# Chargement du df avec toutes les années, données agrégées au pas mensuel\n",
    "df_rte_mois = pd.read_csv('Data\\rte_mois_regions.csv', sep=';', encoding='utf-8')"
   ]
  },
  {
   "cell_type": "code",
   "execution_count": null,
   "id": "1eba68e6",
   "metadata": {
    "scrolled": true
   },
   "outputs": [],
   "source": [
    "print(df_rte.info())\n",
    "df_rte.head()"
   ]
  },
  {
   "cell_type": "markdown",
   "id": "5b6de2c8",
   "metadata": {},
   "source": [
    "## Cartes"
   ]
  },
  {
   "cell_type": "code",
   "execution_count": null,
   "id": "8c7adc34",
   "metadata": {},
   "outputs": [],
   "source": [
    "import geopandas as gpd\n",
    "# import geoplot\n",
    "# import geoplot.crs as gcrs"
   ]
  },
  {
   "cell_type": "code",
   "execution_count": null,
   "id": "bbc51be7",
   "metadata": {},
   "outputs": [],
   "source": [
    "geo_data = gpd.read_file(repertoire_data + 'regions.geojson')"
   ]
  },
  {
   "cell_type": "code",
   "execution_count": null,
   "id": "32a9842c",
   "metadata": {},
   "outputs": [],
   "source": [
    "geo_data.head()"
   ]
  },
  {
   "cell_type": "code",
   "execution_count": null,
   "id": "0e3787be",
   "metadata": {},
   "outputs": [],
   "source": [
    "geo_data = geo_data.drop([9, 10, 11, 12, 13], axis=0)"
   ]
  },
  {
   "cell_type": "code",
   "execution_count": null,
   "id": "eb1664e5",
   "metadata": {},
   "outputs": [],
   "source": [
    "# Croisement des data geojson avec la production\n",
    "df_rte_sum = df_rte[df_rte['Annee']==2019].groupby('Code INSEE région', as_index=False).agg(sum)"
   ]
  },
  {
   "cell_type": "code",
   "execution_count": null,
   "id": "c2a8fbd4",
   "metadata": {},
   "outputs": [],
   "source": [
    "df_rte_sum['Code INSEE région'] = df_rte_sum['Code INSEE région'].astype(int)\n",
    "geo_data['code'] = geo_data['code'].astype(int)\n",
    "df_rte_sum = df_rte_sum.merge(geo_data, left_on='Code INSEE région', right_on='code', how='inner')"
   ]
  },
  {
   "cell_type": "code",
   "execution_count": null,
   "id": "c53dc997",
   "metadata": {},
   "outputs": [],
   "source": [
    "geo = gpd.GeoDataFrame(df_rte_sum, geometry='geometry')"
   ]
  },
  {
   "cell_type": "code",
   "execution_count": null,
   "id": "88e4fd66",
   "metadata": {},
   "outputs": [],
   "source": [
    "fig, axes = plt.subplots(figsize=(20, 10), ncols=2, nrows=1)\n",
    "axes[0] = fig.add_subplot(121)\n",
    "geo.plot(column='Consommation (MW)', cmap='Blues', ax=axes[0])\n",
    "axes[0].axis('off')\n",
    "vmin = geo['Consommation (MW)'].min()\n",
    "vmax = geo['Consommation (MW)'].max()\n",
    "sm = plt.cm.ScalarMappable(cmap='Blues', norm=plt.Normalize(vmin=vmin, vmax=vmax))\n",
    "sm._A = []\n",
    "cbar = fig.colorbar(sm)\n",
    "axes[0].set_title('Consommation par région')\n",
    "\n",
    "axes[1] = fig.add_subplot(122)\n",
    "geo.plot(column='Production totale (MW)', cmap='Blues', ax=axes[1])\n",
    "axes[1].axis('off')\n",
    "vmin = geo['Production totale (MW)'].min()\n",
    "vmax = geo['Production totale (MW)'].max()\n",
    "sm = plt.cm.ScalarMappable(cmap='Blues', norm=plt.Normalize(vmin=vmin, vmax=vmax))\n",
    "sm._A = []\n",
    "cbar = fig.colorbar(sm)\n",
    "axes[1].set_title('Production par région');"
   ]
  },
  {
   "cell_type": "markdown",
   "id": "8564c3b5",
   "metadata": {},
   "source": [
    "Les cartes ci-dessus montrent la consommation et la production pour chaque région. On constate que dans certaines régions, la production est faible voire inexistante, mais la consommation est forte (par exemple l'Ile de France)."
   ]
  },
  {
   "cell_type": "markdown",
   "id": "b061c9fa",
   "metadata": {},
   "source": [
    "## Catplot consommation - production"
   ]
  },
  {
   "cell_type": "code",
   "execution_count": null,
   "id": "5e737cd3",
   "metadata": {},
   "outputs": [],
   "source": [
    "sns.catplot(x='Code INSEE région', y='Production totale (MW)', kind='box', col='Annee', data=df_rte)\n",
    "sns.catplot(x='Code INSEE région', y='Consommation (MW)', kind='box', col='Annee', data=df_rte);"
   ]
  },
  {
   "cell_type": "markdown",
   "id": "cf34904a",
   "metadata": {},
   "source": [
    "La conclusion est la même que l'analyse avec les cartes. On note en plus une constance d'une année sur l'autre."
   ]
  },
  {
   "cell_type": "markdown",
   "id": "9babcadc",
   "metadata": {},
   "source": [
    "## Exploration des données"
   ]
  },
  {
   "cell_type": "markdown",
   "id": "2428f127",
   "metadata": {},
   "source": [
    "### Calcul de la consommation totale par an"
   ]
  },
  {
   "cell_type": "code",
   "execution_count": null,
   "id": "ee9f000d",
   "metadata": {},
   "outputs": [],
   "source": [
    "for annee in range(2013, 2022):\n",
    "    conso_annuelle = df_rte[df_rte['Annee']==annee]['Consommation (MW)'].sum()/2\n",
    "    print('Conso totale', annee, ':', int(conso_annuelle/1000000), 'TWh')"
   ]
  },
  {
   "cell_type": "markdown",
   "id": "5c9eb704",
   "metadata": {},
   "source": [
    "## Visualisation de données"
   ]
  },
  {
   "cell_type": "markdown",
   "id": "c1ce6d4e",
   "metadata": {},
   "source": [
    "### Productions mensuelles empilées par filière, pour une année choisie"
   ]
  },
  {
   "cell_type": "code",
   "execution_count": null,
   "id": "a8be8e32",
   "metadata": {},
   "outputs": [],
   "source": [
    "annee = 2019\n",
    "\n",
    "plt.figure(figsize=(12, 10))\n",
    "\n",
    "plt.stackplot(\n",
    "    'Date',\n",
    "    'Thermique (MW)',\n",
    "    'Nucléaire (MW)',\n",
    "    'Eolien (MW)',\n",
    "    'Solaire (MW)',\n",
    "    'Bioénergies (MW)',\n",
    "    'Hydraulique (MW)',\n",
    "    data=df_rte[df_rte['Annee']==annee].groupby('Date', as_index=False).agg(sum),\n",
    "    labels=['Thermique', 'Nucléaire', 'Eolien', 'Solaire', 'Bioénergies', 'Hydraulique'],\n",
    "    colors=['brown', 'orange', 'green', 'yellow', 'grey', 'blue']\n",
    ")\n",
    "plt.ylabel('Puissance (MW)')\n",
    "plt.xticks([str(annee)+'-01-01', str(annee)+'-04-01', str(annee)+'-07-01', str(annee)+'-10-01'])\n",
    "plt.title('Production par filière en ' + str(annee))\n",
    "plt.legend(loc='upper center');"
   ]
  },
  {
   "cell_type": "markdown",
   "id": "5301679d",
   "metadata": {},
   "source": [
    "La majorité de la production provient de la filière nucléaire. La consommation d'électricité est nettement plus faible en été qu'en hiver."
   ]
  },
  {
   "cell_type": "markdown",
   "id": "0c4cf21f",
   "metadata": {},
   "source": [
    "### Production mensuelle par filière pour une année choisie"
   ]
  },
  {
   "cell_type": "code",
   "execution_count": null,
   "id": "76e83d7e",
   "metadata": {},
   "outputs": [],
   "source": [
    "annee = 2019\n",
    "\n",
    "fig, axes = plt.subplots(3, 2, figsize=(20, 26))\n",
    "\n",
    "filieres = ['Thermique (MW)'\n",
    "            , 'Nucléaire (MW)'\n",
    "            , 'Eolien (MW)'\n",
    "            , 'Solaire (MW)'\n",
    "            , 'Hydraulique (MW)'\n",
    "            , 'Bioénergies (MW)'\n",
    "           ]\n",
    "\n",
    "for (index, filiere), ax in zip(enumerate(filieres), axes.flatten()):\n",
    "    ax.bar(x=df_rte_mois[df_rte_mois['Annee']==annee]['Mois']\n",
    "                  , height=df_rte_mois[df_rte_mois['Annee']==annee]['Thermique (MW)'])\n",
    "    ax.set_ylabel(filiere)\n",
    "    ax.set_title('Production '+ filiere+ ' en '+str(annee))\n",
    "    ax.set_xticks([str(annee)+'-01', str(annee)+'-04', str(annee)+'-07', str(annee)+'-10'])"
   ]
  },
  {
   "cell_type": "markdown",
   "id": "0b95d7a1",
   "metadata": {},
   "source": [
    "La saisonnalité n'est pas la même selon la filière de production. La production solaire est plus importante l'été, l'éolien connait des pics en hiver.\n",
    "Le nucléaire connait également une saisonnalité en relation avec la consommation (plus de production l'hiver)."
   ]
  },
  {
   "cell_type": "markdown",
   "id": "f91ca55b",
   "metadata": {},
   "source": [
    "### Différence entre consommation et production et mise en rapport avec les échanges physiques\n",
    "Application sur l'année 2015 de façon aléatoire."
   ]
  },
  {
   "cell_type": "code",
   "execution_count": null,
   "id": "7daf2929",
   "metadata": {},
   "outputs": [],
   "source": [
    "annee = 2015\n",
    "\n",
    "df_rte[df_rte['Annee']==annee].drop(['Annee', 'Jour_semaine', 'Code INSEE région'], axis=1).groupby(\n",
    "    'Date', as_index=False\n",
    ").agg(sum).iloc[:, :14]"
   ]
  },
  {
   "cell_type": "code",
   "execution_count": null,
   "id": "3f67e11e",
   "metadata": {},
   "outputs": [],
   "source": [
    "df_rte['Conso-Prod'] = df_rte['Consommation (MW)'] - df_rte['Production totale (MW)']"
   ]
  },
  {
   "cell_type": "code",
   "execution_count": null,
   "id": "05f5b59f",
   "metadata": {},
   "outputs": [],
   "source": [
    "annee = 2015\n",
    "\n",
    "fig = plt.figure(figsize=(12,10))\n",
    "\n",
    "plt.plot(df_rte[df_rte['Annee']==annee].groupby('Date').agg(sum)['Consommation (MW)'], \n",
    "         label='Consommation')\n",
    "plt.plot(df_rte[df_rte['Annee']==annee].groupby('Date').agg(sum)['Production totale (MW)'], \n",
    "         linestyle='-', \n",
    "         label='Production', \n",
    "         color='b'\n",
    "        )\n",
    "\n",
    "plt.plot(df_rte[df_rte['Annee']==annee].groupby('Date', as_index=False).agg(sum)['Ech. physiques (MW)'], \n",
    "         linestyle='--', \n",
    "         label='Ech. physiques', \n",
    "         color='grey'\n",
    "        )\n",
    "plt.ylabel('MW')\n",
    "plt.xticks(['2015-01-01', '2015-04-01', '2015-07-01', '2015-10-01'])\n",
    "plt.title('Consommation, production et échanges physiques')\n",
    "plt.legend();"
   ]
  },
  {
   "cell_type": "markdown",
   "id": "467e75e6",
   "metadata": {},
   "source": [
    "--> La différence entre production et consommation pourrait correspondre aux échanges physiques. Pour s'en convaincre on représente le delta entre consommation et production face aux échanges physiques."
   ]
  },
  {
   "cell_type": "code",
   "execution_count": null,
   "id": "d7d3c828",
   "metadata": {},
   "outputs": [],
   "source": [
    "plt.figure(figsize=(12,10))\n",
    "\n",
    "plt.plot(df_rte[df_rte['Annee']==annee].groupby('Date').agg(sum)['Conso-Prod'], \n",
    "         linestyle='-', \n",
    "         label='Conso-Prod')\n",
    "plt.plot(df_rte[df_rte['Annee']==annee].groupby('Date').agg(sum)['Ech. physiques (MW)'], \n",
    "         linestyle='-', \n",
    "         color='grey', \n",
    "         label='Ech. physiques'\n",
    "        )\n",
    "plt.ylabel('MW')\n",
    "plt.xticks(['2015-01-01', '2015-04-01', '2015-07-01', '2015-10-01'])\n",
    "plt.title('Delta entre consommation et production vs. échanges physiques')\n",
    "plt.legend();"
   ]
  },
  {
   "cell_type": "markdown",
   "id": "30b51b78",
   "metadata": {},
   "source": [
    "**--> Les deux courbes sont parfaitement superposées, donc les échanges physiques correspondent bien à la différence entre consommation et production, et reflètent donc les imports et exports aux frontières françaises.**"
   ]
  },
  {
   "cell_type": "markdown",
   "id": "fceb2ab3",
   "metadata": {},
   "source": [
    "## Consommation en fonction du jour de la semaine"
   ]
  },
  {
   "cell_type": "code",
   "execution_count": null,
   "id": "c631f2ad",
   "metadata": {},
   "outputs": [],
   "source": [
    "df_agg_j = df_rte.groupby(['Annee','Jour_semaine'], as_index=False ).agg({'Consommation (MW)' : 'sum'})          \n",
    "\n",
    "plt.figure (figsize = (20,10))\n",
    "plt.plot (df_agg_j['Jour_semaine'][(df_agg_j['Annee']== 2015)],df_agg_j['Consommation (MW)'][(df_agg_j['Annee'] == 2015)], \"-gs\" ,label = '2015')\n",
    "plt.plot (df_agg_j['Jour_semaine'][(df_agg_j['Annee'] == 2016)],df_agg_j['Consommation (MW)'][(df_agg_j['Annee'] == 2016)], \"-bs\",label = '2016')\n",
    "plt.plot (df_agg_j['Jour_semaine'][(df_agg_j['Annee'] == 2017)],df_agg_j['Consommation (MW)'][(df_agg_j['Annee'] == 2017)], \"-rs\",label = '2017')\n",
    "plt.plot (df_agg_j['Jour_semaine'][(df_agg_j['Annee'] == 2018)],df_agg_j['Consommation (MW)'][(df_agg_j['Annee'] == 2018)], \"-ys\",label = '2018')\n",
    "plt.plot (df_agg_j['Jour_semaine'][(df_agg_j['Annee'] == 2019)],df_agg_j['Consommation (MW)'][(df_agg_j['Annee'] == 2019)], \"-ks\",label = '2019')\n",
    "plt.xticks(range(7), ['Lundi', 'Mardi', 'Mercredi', 'Jeudi', 'Vendredi', 'Samedi', 'Dimanche'], rotation=70)\n",
    "plt.ylabel('Consommation (MW)')\n",
    "plt.legend();"
   ]
  },
  {
   "cell_type": "markdown",
   "id": "cb6efffa",
   "metadata": {},
   "source": [
    "La consommation baisse fortement le samedi, et encore plus le dimanche, du fait de l'arrêt des gros consommateurs (gros industriels)."
   ]
  },
  {
   "cell_type": "markdown",
   "id": "9c026f44",
   "metadata": {},
   "source": [
    "# Fichier météo"
   ]
  },
  {
   "cell_type": "markdown",
   "id": "a44089b8",
   "metadata": {},
   "source": [
    "## Lecture du fichier"
   ]
  },
  {
   "cell_type": "code",
   "execution_count": null,
   "id": "745cea54",
   "metadata": {},
   "outputs": [],
   "source": [
    "df_meteo = pd.read_csv((repertoire_data + fichier_meteo), sep = ',')"
   ]
  },
  {
   "cell_type": "code",
   "execution_count": null,
   "id": "8a13812f",
   "metadata": {},
   "outputs": [],
   "source": [
    "df_meteo.head()"
   ]
  },
  {
   "cell_type": "markdown",
   "id": "a371de6a",
   "metadata": {},
   "source": [
    "# Croisement des df RTE et Météo"
   ]
  },
  {
   "cell_type": "code",
   "execution_count": null,
   "id": "7e7e23ae",
   "metadata": {
    "scrolled": true
   },
   "outputs": [],
   "source": [
    "df_rte = df_rte.iloc[:, :19]\n",
    "df_rte.head()"
   ]
  },
  {
   "cell_type": "code",
   "execution_count": null,
   "id": "c5faf569",
   "metadata": {},
   "outputs": [],
   "source": [
    "df_rte_meteo = df_rte.merge(\n",
    "    right=df_meteo, \n",
    "    left_on=['Date', 'Code INSEE région'], \n",
    "    right_on=['aaaammjj', 'region'],\n",
    "    how='inner')\n",
    "df_rte_meteo = df_rte_meteo.drop(['aaaammjj', 'region', 'joursem', 'annee'], axis=1)\n",
    "df_rte_meteo.head()"
   ]
  },
  {
   "cell_type": "markdown",
   "id": "9451f24d",
   "metadata": {},
   "source": [
    "## Corrélations entre variables"
   ]
  },
  {
   "cell_type": "code",
   "execution_count": null,
   "id": "52e1659c",
   "metadata": {},
   "outputs": [],
   "source": [
    "corr = df_rte_meteo.corr()\n",
    "lower_triangle = np.tril(corr, k = -1)\n",
    "mask = lower_triangle == 0\n",
    "\n",
    "plt.figure(figsize = (15,8))  \n",
    "sns.set_style(style = 'white')   \n",
    "sns.heatmap(lower_triangle, center=0.5, cmap= 'Blues', annot= True, xticklabels = corr.index, yticklabels = corr.columns,\n",
    "            cbar= False, linewidths= 1, mask = mask)   # \n",
    "plt.xticks(rotation = 50)    \n",
    "plt.yticks(rotation = 20);"
   ]
  },
  {
   "cell_type": "markdown",
   "id": "6e3eae47",
   "metadata": {},
   "source": [
    "## Relation production éolienne et vitesse du vent"
   ]
  },
  {
   "cell_type": "code",
   "execution_count": null,
   "id": "0797b894",
   "metadata": {},
   "outputs": [],
   "source": [
    "plt.figure(figsize=(12, 10))\n",
    "plt.scatter(x=df_rte_meteo[df_rte_meteo['Code INSEE région']==32]['rafale_periode'], \n",
    "            y=df_rte_meteo[df_rte_meteo['Code INSEE région']==32]['Eolien (MW)'])\n",
    "plt.xlabel('Vitesse du vent')\n",
    "plt.ylabel('Production éolienne (MW)')\n",
    "plt.title('Production éolienne en fonction du vent');"
   ]
  },
  {
   "cell_type": "markdown",
   "id": "4133af33",
   "metadata": {},
   "source": [
    "On remarque clairement la corrélation entre production éolienne et vitesse du vent."
   ]
  },
  {
   "cell_type": "markdown",
   "id": "269ca913",
   "metadata": {},
   "source": [
    "## Relation production solaire et nébulosité"
   ]
  },
  {
   "cell_type": "code",
   "execution_count": null,
   "id": "473236ee",
   "metadata": {},
   "outputs": [],
   "source": [
    "plt.figure(figsize=(12, 10))\n",
    "plt.scatter(x=df_rte_meteo[df_rte_meteo['Code INSEE région']==11]['nebulosite'], \n",
    "            y=df_rte_meteo[df_rte_meteo['Code INSEE région']==11]['Solaire (MW)'])\n",
    "plt.xlabel('Nébulosité totale')\n",
    "plt.ylabel('Production solaire (MW)')\n",
    "plt.title(\"Production solaire en fonction de la 'nébulosité totale'\");"
   ]
  },
  {
   "cell_type": "markdown",
   "id": "cb3863fb",
   "metadata": {},
   "source": [
    "On voit une corrélation entre la production solaire et la nébulosité, mais le lien n'est pas très net. Une des pistes est de revoir le traitement des valeurs manquantes dans le fichier météo (notamment en affectant une valeur 1 aux tranches 22h-1h et 1h-4h)."
   ]
  },
  {
   "cell_type": "markdown",
   "id": "758815cc",
   "metadata": {},
   "source": [
    "## Relation consommation et température"
   ]
  },
  {
   "cell_type": "code",
   "execution_count": null,
   "id": "31afb2d4",
   "metadata": {},
   "outputs": [],
   "source": [
    "plt.figure(figsize=(12, 10))\n",
    "plt.scatter(x=df_rte_meteo[df_rte_meteo['Code INSEE région']==11]['temp'], \n",
    "            y=df_rte_meteo[df_rte_meteo['Code INSEE région']==11]['Consommation (MW)'])\n",
    "plt.xlabel('Température (°C)')\n",
    "plt.ylabel('Consommation (MW)')\n",
    "plt.title('Consommation en fonction de la température (°C)');"
   ]
  },
  {
   "cell_type": "markdown",
   "id": "d76066a9",
   "metadata": {},
   "source": [
    "On voit nettement la hausse de la consommation quand la température diminue. Au-delà d'une température d'environ 20°, la consommation augmente à nouveau du fait de la hausse de la climatisation."
   ]
  }
 ],
 "metadata": {
  "celltoolbar": "Format de la Cellule Texte Brut",
  "kernelspec": {
   "display_name": "Python 3.9.11 ('base')",
   "language": "python",
   "name": "python3"
  },
  "language_info": {
   "codemirror_mode": {
    "name": "ipython",
    "version": 3
   },
   "file_extension": ".py",
   "mimetype": "text/x-python",
   "name": "python",
   "nbconvert_exporter": "python",
   "pygments_lexer": "ipython3",
   "version": "3.9.11"
  },
  "vscode": {
   "interpreter": {
    "hash": "d12e26f72a40d5c48233c54861fca038d6a92135fc0e5e920944e69c69b6b29d"
   }
  }
 },
 "nbformat": 4,
 "nbformat_minor": 5
}
