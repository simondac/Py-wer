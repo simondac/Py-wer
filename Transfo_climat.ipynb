{
 "cells": [
  {
   "cell_type": "markdown",
   "id": "79555d3f-ef27-4738-8574-4a4b3e7e9a03",
   "metadata": {},
   "source": [
    "# Transformation des données du climat\n",
    "\n",
    "## Données du climats"
   ]
  },
  {
   "cell_type": "code",
   "execution_count": 2,
   "id": "6cf1a1ae-0f25-413d-b93e-ee49dc9cd846",
   "metadata": {},
   "outputs": [],
   "source": [
    "import pandas as pd \n",
    "import numpy as np\n",
    "import time\n",
    "import matplotlib.pyplot as plt\n",
    "%matplotlib inline\n",
    "\n",
    "import seaborn as sns \n",
    "\n",
    "pd.options.display.max_columns = None\n",
    "pd.options.display.max_rows = None\n",
    "# pd.options.display.float_format = '{:.2f}'.format "
   ]
  },
  {
   "cell_type": "markdown",
   "id": "9bb2ad07-a5f1-4bbe-a67c-5f7d07885a31",
   "metadata": {
    "tags": []
   },
   "source": [
    "# Lecture des données"
   ]
  },
  {
   "cell_type": "code",
   "execution_count": 3,
   "id": "391e382e-1e73-4c9b-b95c-334757254c1c",
   "metadata": {
    "tags": []
   },
   "outputs": [],
   "source": [
    "weather = pd.read_csv ('Data/donnees-synop-essentielles-omm.csv', sep = ';')"
   ]
  },
  {
   "cell_type": "code",
   "execution_count": 4,
   "id": "f56140f1-1dac-4614-ab52-1799e26ab2a2",
   "metadata": {},
   "outputs": [
    {
     "name": "stdout",
     "output_type": "stream",
     "text": [
      "['ID OMM station' 'Date' 'Pression au niveau mer'\n",
      " 'Variation de pression en 3 heures' 'Type de tendance barométrique'\n",
      " 'Direction du vent moyen 10 mn' 'Vitesse du vent moyen 10 mn'\n",
      " 'Température' 'Point de rosée' 'Humidité' 'Visibilité horizontale'\n",
      " 'Temps présent' 'Temps passé 1' 'Temps passé 2' 'Nebulosité totale'\n",
      " \"Nébulosité  des nuages de l' étage inférieur\"\n",
      " \"Hauteur de la base des nuages de l'étage inférieur\"\n",
      " \"Type des nuages de l'étage inférieur\" \"Type des nuages de l'étage moyen\"\n",
      " \"Type des nuages de l'étage supérieur\" 'Pression station'\n",
      " 'Niveau barométrique' 'Géopotentiel' 'Variation de pression en 24 heures'\n",
      " 'Température minimale sur 12 heures' 'Température minimale sur 24 heures'\n",
      " 'Température maximale sur 12 heures' 'Température maximale sur 24 heures'\n",
      " 'Température minimale du sol sur 12 heures'\n",
      " 'Méthode de mesure Température du thermomètre mouillé'\n",
      " 'Température du thermomètre mouillé'\n",
      " 'Rafale sur les 10 dernières minutes' 'Rafales sur une période'\n",
      " 'Periode de mesure de la rafale' 'Etat du sol'\n",
      " 'Hauteur totale de la couche de neige, glace, autre au sol'\n",
      " 'Hauteur de la neige fraîche' 'Periode de mesure de la neige fraiche'\n",
      " 'Précipitations dans la dernière heure'\n",
      " 'Précipitations dans les 3 dernières heures'\n",
      " 'Précipitations dans les 6 dernières heures'\n",
      " 'Précipitations dans les 12 dernières heures'\n",
      " 'Précipitations dans les 24 dernières heures' 'Phénomène spécial 1'\n",
      " 'Phénomène spécial 2' 'Phénomène spécial 3' 'Phénomène spécial 4'\n",
      " 'Nébulosité couche nuageuse 1' 'Type nuage 1' 'Hauteur de base 1'\n",
      " 'Nébulosité couche nuageuse 2' 'Type nuage 2' 'Hauteur de base 2'\n",
      " 'Nébulosité couche nuageuse 3' 'Type nuage 3' 'Hauteur de base 3'\n",
      " 'Nébulosité couche nuageuse 4' 'Type nuage 4' 'Hauteur de base 4'\n",
      " 'Coordonnees' 'Nom' 'Type de tendance barométrique.1' 'Temps passé 1.1'\n",
      " 'Temps présent.1' 'Température (°C)'\n",
      " 'Température minimale sur 12 heures (°C)'\n",
      " 'Température minimale sur 24 heures (°C)'\n",
      " 'Température maximale sur 12 heures (°C)'\n",
      " 'Température maximale sur 24 heures (°C)'\n",
      " 'Température minimale du sol sur 12 heures (en °C)' 'Latitude'\n",
      " 'Longitude' 'Altitude' 'communes (name)' 'communes (code)' 'EPCI (name)'\n",
      " 'EPCI (code)' 'department (name)' 'department (code)' 'region (name)'\n",
      " 'region (code)' 'mois_de_l_annee']\n"
     ]
    }
   ],
   "source": [
    "print(weather.columns.values)"
   ]
  },
  {
   "cell_type": "markdown",
   "id": "ef461efb-7725-4617-8a77-e76a7b165cf3",
   "metadata": {},
   "source": [
    "Le nombre de colonnes est assez important. Nous allons en selectionner qu'un sous ensemble ayant un lien à priori avec la consommation d'energie"
   ]
  },
  {
   "cell_type": "markdown",
   "id": "f8fb32ec-6b02-4e12-b114-df4919b731d6",
   "metadata": {
    "tags": []
   },
   "source": [
    "# Sélection du périmètre \n",
    "1) on ne conserve qu'un périmètre temporel précis. Pour l'instant 2015 - 2019\n",
    "\n",
    "2) On supprime certaines régions qui ne font pas partie du périmètre de données du fichier des données electricité (guadeloupe, martinique , ...)\n",
    "\n",
    "3) il y a des données qui sont référencées dans des régions qui n'existent pas dans le fichier des départements. On les supprime aussi (984 , 977 , 975)\n"
   ]
  },
  {
   "cell_type": "code",
   "execution_count": 5,
   "id": "a9fa62b2-ef26-456b-aded-c9df5ca2ce1c",
   "metadata": {},
   "outputs": [],
   "source": [
    "weather = weather[(weather['Date'] >= '2015') & (weather['Date'] <= '2020') ]  "
   ]
  },
  {
   "cell_type": "code",
   "execution_count": 6,
   "id": "54d687e5-37d7-4ad8-a7dd-fc8568f02bfc",
   "metadata": {},
   "outputs": [],
   "source": [
    "weather = weather[~( (weather['region (code)'] == 1.00) | (weather['region (code)'] == 2.00) | (weather['region (code)'] == 3.00)\n",
    "                 | (weather['region (code)'] == 4.00) | (weather['region (code)'] == 5.00) | (weather['region (code)'] == 6.00) )] \n"
   ]
  },
  {
   "cell_type": "code",
   "execution_count": 7,
   "id": "7fc4ebe3-81a9-4a50-8b9a-28b0898867cd",
   "metadata": {},
   "outputs": [
    {
     "data": {
      "text/html": [
       "<div>\n",
       "<style scoped>\n",
       "    .dataframe tbody tr th:only-of-type {\n",
       "        vertical-align: middle;\n",
       "    }\n",
       "\n",
       "    .dataframe tbody tr th {\n",
       "        vertical-align: top;\n",
       "    }\n",
       "\n",
       "    .dataframe thead th {\n",
       "        text-align: right;\n",
       "    }\n",
       "</style>\n",
       "<table border=\"1\" class=\"dataframe\">\n",
       "  <thead>\n",
       "    <tr style=\"text-align: right;\">\n",
       "      <th>col_0</th>\n",
       "      <th>631952</th>\n",
       "    </tr>\n",
       "    <tr>\n",
       "      <th>region (code)</th>\n",
       "      <th></th>\n",
       "    </tr>\n",
       "  </thead>\n",
       "  <tbody>\n",
       "    <tr>\n",
       "      <th>11.0</th>\n",
       "      <td>14583</td>\n",
       "    </tr>\n",
       "    <tr>\n",
       "      <th>24.0</th>\n",
       "      <td>29155</td>\n",
       "    </tr>\n",
       "    <tr>\n",
       "      <th>27.0</th>\n",
       "      <td>14479</td>\n",
       "    </tr>\n",
       "    <tr>\n",
       "      <th>28.0</th>\n",
       "      <td>57699</td>\n",
       "    </tr>\n",
       "    <tr>\n",
       "      <th>32.0</th>\n",
       "      <td>29138</td>\n",
       "    </tr>\n",
       "    <tr>\n",
       "      <th>44.0</th>\n",
       "      <td>72736</td>\n",
       "    </tr>\n",
       "    <tr>\n",
       "      <th>52.0</th>\n",
       "      <td>14583</td>\n",
       "    </tr>\n",
       "    <tr>\n",
       "      <th>53.0</th>\n",
       "      <td>58150</td>\n",
       "    </tr>\n",
       "    <tr>\n",
       "      <th>75.0</th>\n",
       "      <td>72335</td>\n",
       "    </tr>\n",
       "    <tr>\n",
       "      <th>76.0</th>\n",
       "      <td>101520</td>\n",
       "    </tr>\n",
       "    <tr>\n",
       "      <th>84.0</th>\n",
       "      <td>58107</td>\n",
       "    </tr>\n",
       "    <tr>\n",
       "      <th>93.0</th>\n",
       "      <td>57754</td>\n",
       "    </tr>\n",
       "    <tr>\n",
       "      <th>94.0</th>\n",
       "      <td>29155</td>\n",
       "    </tr>\n",
       "    <tr>\n",
       "      <th>975.0</th>\n",
       "      <td>4867</td>\n",
       "    </tr>\n",
       "    <tr>\n",
       "      <th>977.0</th>\n",
       "      <td>4338</td>\n",
       "    </tr>\n",
       "    <tr>\n",
       "      <th>984.0</th>\n",
       "      <td>13353</td>\n",
       "    </tr>\n",
       "  </tbody>\n",
       "</table>\n",
       "</div>"
      ],
      "text/plain": [
       "col_0          631952\n",
       "region (code)        \n",
       "11.0            14583\n",
       "24.0            29155\n",
       "27.0            14479\n",
       "28.0            57699\n",
       "32.0            29138\n",
       "44.0            72736\n",
       "52.0            14583\n",
       "53.0            58150\n",
       "75.0            72335\n",
       "76.0           101520\n",
       "84.0            58107\n",
       "93.0            57754\n",
       "94.0            29155\n",
       "975.0            4867\n",
       "977.0            4338\n",
       "984.0           13353"
      ]
     },
     "execution_count": 7,
     "metadata": {},
     "output_type": "execute_result"
    }
   ],
   "source": [
    "pd.crosstab(weather['region (code)'],weather['region (code)'].count())"
   ]
  },
  {
   "cell_type": "code",
   "execution_count": 8,
   "id": "da60a1e3-42bb-4f24-88ed-99d5772db881",
   "metadata": {},
   "outputs": [],
   "source": [
    "weather = weather[~( (weather['region (code)'] == 975.00 ) | (weather['region (code)'] ==977.00) | (weather['region (code)'] == 984.00))] "
   ]
  },
  {
   "cell_type": "markdown",
   "id": "0947f2d7-9519-4dbe-854b-d22eab42803a",
   "metadata": {
    "tags": []
   },
   "source": [
    "# selection de colonnes et transformation\n",
    "\n",
    "1) Selection des colonnes"
   ]
  },
  {
   "cell_type": "code",
   "execution_count": 9,
   "id": "db09eefe-d130-4b2f-bc0a-b841c4f9a992",
   "metadata": {},
   "outputs": [],
   "source": [
    "weather = weather[['Date','ID OMM station','Température (°C)','Température minimale sur 12 heures (°C)','Température minimale sur 24 heures (°C)'\n",
    "                       ,'Température maximale sur 12 heures (°C)','Température maximale sur 24 heures (°C)'\n",
    "                       ,'Humidité','Nebulosité totale','Rafales sur une période','Periode de mesure de la rafale'\n",
    "                       ,'Vitesse du vent moyen 10 mn','Précipitations dans la dernière heure'\n",
    "                       ,'Précipitations dans les 3 dernières heures'\n",
    "                       , 'Précipitations dans les 6 dernières heures','Précipitations dans les 12 dernières heures' \n",
    "                       ,'Précipitations dans les 24 dernières heures' \n",
    "                       ,'region (code)']]"
   ]
  },
  {
   "cell_type": "markdown",
   "id": "13f8faf7-99be-44b4-b3a6-422b47fc5524",
   "metadata": {},
   "source": [
    "2) Transformation des colonnes de date"
   ]
  },
  {
   "cell_type": "code",
   "execution_count": 10,
   "id": "e85b8b3a-ccb2-46e2-a3c3-20ec9c5697c4",
   "metadata": {},
   "outputs": [],
   "source": [
    "weather['aaaammjj'] = pd.to_datetime(weather['Date'].apply(lambda get_year: get_year[0:10] ) )\n",
    "\n",
    "weather['annee'] =  pd.to_datetime(weather['aaaammjj']).dt.year\n",
    "weather['mois'] = pd.to_datetime(weather['aaaammjj']).dt.month\n",
    "weather['joursem'] = pd.to_datetime(weather['aaaammjj']).dt.dayofweek\n",
    "weather['jour'] = pd.to_datetime(weather['aaaammjj']).dt.day\n",
    "\n",
    "weather['hhmmss'] =  weather['Date'].apply(lambda get_year: get_year[11:19] )\n",
    "\n"
   ]
  },
  {
   "cell_type": "markdown",
   "id": "aaf41d30-e2e6-4593-9216-90860d22aee4",
   "metadata": {},
   "source": [
    "3) Analyse de la variable 'Periode de mesure de la rafale' \n",
    "Il y a 98% des données qui ont la meme valeur. Cette colonne ne servira donc à rien. On la supprime"
   ]
  },
  {
   "cell_type": "code",
   "execution_count": 11,
   "id": "18537ede-f6b4-49d3-811f-b7318e00e81b",
   "metadata": {},
   "outputs": [
    {
     "data": {
      "text/plain": [
       "-10.0    0.988715\n",
       "-60.0    0.005827\n",
       "-30.0    0.005458\n",
       "Name: Periode de mesure de la rafale, dtype: float64"
      ]
     },
     "execution_count": 11,
     "metadata": {},
     "output_type": "execute_result"
    }
   ],
   "source": [
    "weather['Periode de mesure de la rafale'].value_counts(normalize = True)"
   ]
  },
  {
   "cell_type": "markdown",
   "id": "d9bd7392-5a33-4493-a1de-30501a62b834",
   "metadata": {},
   "source": [
    "4. Suppression des colonnes inutiles "
   ]
  },
  {
   "cell_type": "code",
   "execution_count": 12,
   "id": "780ead43-4f2c-4e5e-aac3-ef642d4d99ed",
   "metadata": {},
   "outputs": [],
   "source": [
    "weather = weather[['Date','ID OMM station','Température (°C)','Température minimale sur 12 heures (°C)','Température minimale sur 24 heures (°C)'\n",
    "                       ,'Température maximale sur 12 heures (°C)','Température maximale sur 24 heures (°C)'\n",
    "                       ,'Humidité','Nebulosité totale','Rafales sur une période','Vitesse du vent moyen 10 mn','Précipitations dans la dernière heure'\n",
    "                       ,'Précipitations dans les 3 dernières heures'\n",
    "                       , 'Précipitations dans les 6 dernières heures','Précipitations dans les 12 dernières heures' \n",
    "                       ,'Précipitations dans les 24 dernières heures' \n",
    "                       ,'region (code)','aaaammjj','annee','mois','joursem','jour','hhmmss']]"
   ]
  },
  {
   "cell_type": "markdown",
   "id": "613ed039-cebd-41a9-b514-4fd59721decf",
   "metadata": {},
   "source": [
    "5. Les précipitations < 0 sont remises à zéro "
   ]
  },
  {
   "cell_type": "code",
   "execution_count": 13,
   "id": "305d544e-d933-43f7-8a33-b4b653beaedb",
   "metadata": {},
   "outputs": [],
   "source": [
    "weather ['Précipitations dans la dernière heure'] [(weather['Précipitations dans la dernière heure'] < 0) ] = 0 \n",
    "weather ['Précipitations dans les 3 dernières heures'] [(weather['Précipitations dans les 3 dernières heures'] < 0) ] = 0 \n",
    "weather ['Précipitations dans les 6 dernières heures'] [(weather['Précipitations dans les 6 dernières heures'] < 0) ] = 0 \n",
    "weather ['Précipitations dans les 12 dernières heures'] [(weather['Précipitations dans les 12 dernières heures'] < 0) ] = 0 \n",
    "weather ['Précipitations dans les 24 dernières heures'] [(weather['Précipitations dans les 24 dernières heures'] < 0) ] = 0"
   ]
  },
  {
   "cell_type": "markdown",
   "id": "39962708-c7df-4cfc-99cd-43efba5c889d",
   "metadata": {
    "tags": []
   },
   "source": [
    "# Traitement des id_station\n",
    "\n",
    "Il y a un certain nombre d'enregistrements pour lesquels il n'y a pas de région. \n",
    "On va rechercher la région via le fichier des station méteo et celui des communes. \n",
    "\n",
    "Dans le fichier des stations, la donnée de la ville est souvent constituée de la ville - Quartier (exemple LILLE-LESQUIN)     \n",
    "\n",
    "On fera donc 2 jointures distinctes entre station et ville : Une ou la Ville (station) = ville (commune)   \n",
    "                                                             l'autre ou ville (station - le quartier) = ville de commune.   \n",
    "                                                              On prendra le résultat de la jointure qui n'est pas nuelle  \n",
    "On ne peut pas faire l'opération en une seule fois car il existe des villes avec un \"-\" dans le nom."
   ]
  },
  {
   "cell_type": "code",
   "execution_count": 14,
   "id": "ddef373e-fc18-4aef-87c4-eeeea823f94f",
   "metadata": {},
   "outputs": [
    {
     "data": {
      "text/html": [
       "<div>\n",
       "<style scoped>\n",
       "    .dataframe tbody tr th:only-of-type {\n",
       "        vertical-align: middle;\n",
       "    }\n",
       "\n",
       "    .dataframe tbody tr th {\n",
       "        vertical-align: top;\n",
       "    }\n",
       "\n",
       "    .dataframe thead th {\n",
       "        text-align: right;\n",
       "    }\n",
       "</style>\n",
       "<table border=\"1\" class=\"dataframe\">\n",
       "  <thead>\n",
       "    <tr style=\"text-align: right;\">\n",
       "      <th></th>\n",
       "      <th>ID</th>\n",
       "      <th>Nom</th>\n",
       "      <th>Latitude</th>\n",
       "      <th>Longitude</th>\n",
       "      <th>Altitude</th>\n",
       "    </tr>\n",
       "  </thead>\n",
       "  <tbody>\n",
       "    <tr>\n",
       "      <th>0</th>\n",
       "      <td>7005</td>\n",
       "      <td>ABBEVILLE</td>\n",
       "      <td>50.136000</td>\n",
       "      <td>1.834000</td>\n",
       "      <td>69</td>\n",
       "    </tr>\n",
       "    <tr>\n",
       "      <th>1</th>\n",
       "      <td>7015</td>\n",
       "      <td>LILLE-LESQUIN</td>\n",
       "      <td>50.570000</td>\n",
       "      <td>3.097500</td>\n",
       "      <td>47</td>\n",
       "    </tr>\n",
       "    <tr>\n",
       "      <th>2</th>\n",
       "      <td>7020</td>\n",
       "      <td>PTE DE LA HAGUE</td>\n",
       "      <td>49.725167</td>\n",
       "      <td>-1.939833</td>\n",
       "      <td>6</td>\n",
       "    </tr>\n",
       "    <tr>\n",
       "      <th>3</th>\n",
       "      <td>7027</td>\n",
       "      <td>CAEN-CARPIQUET</td>\n",
       "      <td>49.180000</td>\n",
       "      <td>-0.456167</td>\n",
       "      <td>67</td>\n",
       "    </tr>\n",
       "    <tr>\n",
       "      <th>4</th>\n",
       "      <td>7037</td>\n",
       "      <td>ROUEN-BOOS</td>\n",
       "      <td>49.383000</td>\n",
       "      <td>1.181667</td>\n",
       "      <td>151</td>\n",
       "    </tr>\n",
       "  </tbody>\n",
       "</table>\n",
       "</div>"
      ],
      "text/plain": [
       "     ID              Nom   Latitude  Longitude  Altitude\n",
       "0  7005        ABBEVILLE  50.136000   1.834000        69\n",
       "1  7015    LILLE-LESQUIN  50.570000   3.097500        47\n",
       "2  7020  PTE DE LA HAGUE  49.725167  -1.939833         6\n",
       "3  7027   CAEN-CARPIQUET  49.180000  -0.456167        67\n",
       "4  7037       ROUEN-BOOS  49.383000   1.181667       151"
      ]
     },
     "execution_count": 14,
     "metadata": {},
     "output_type": "execute_result"
    }
   ],
   "source": [
    "station = pd.read_csv ('Data/stations_meteo.csv', sep = ';')\n",
    "station.head()"
   ]
  },
  {
   "cell_type": "code",
   "execution_count": 15,
   "id": "48cc2bda-c052-4252-b61d-0de0a7f9df8d",
   "metadata": {},
   "outputs": [],
   "source": [
    "# On calcul le nom de la ville sans les \"-\" \n",
    "station['nom_alt'] =station['Nom'].apply(lambda get_ville : get_ville if get_ville.find(\"-\") == -1 else get_ville[0:get_ville.find(\"-\")] )"
   ]
  },
  {
   "cell_type": "code",
   "execution_count": 16,
   "id": "546081d0-8d03-4778-82db-9536883c595f",
   "metadata": {},
   "outputs": [
    {
     "data": {
      "text/html": [
       "<div>\n",
       "<style scoped>\n",
       "    .dataframe tbody tr th:only-of-type {\n",
       "        vertical-align: middle;\n",
       "    }\n",
       "\n",
       "    .dataframe tbody tr th {\n",
       "        vertical-align: top;\n",
       "    }\n",
       "\n",
       "    .dataframe thead th {\n",
       "        text-align: right;\n",
       "    }\n",
       "</style>\n",
       "<table border=\"1\" class=\"dataframe\">\n",
       "  <thead>\n",
       "    <tr style=\"text-align: right;\">\n",
       "      <th></th>\n",
       "      <th>ID</th>\n",
       "      <th>Nom</th>\n",
       "      <th>Latitude</th>\n",
       "      <th>Longitude</th>\n",
       "      <th>Altitude</th>\n",
       "      <th>nom_alt</th>\n",
       "    </tr>\n",
       "  </thead>\n",
       "  <tbody>\n",
       "    <tr>\n",
       "      <th>0</th>\n",
       "      <td>7005</td>\n",
       "      <td>ABBEVILLE</td>\n",
       "      <td>50.136000</td>\n",
       "      <td>1.834000</td>\n",
       "      <td>69</td>\n",
       "      <td>ABBEVILLE</td>\n",
       "    </tr>\n",
       "    <tr>\n",
       "      <th>1</th>\n",
       "      <td>7015</td>\n",
       "      <td>LILLE-LESQUIN</td>\n",
       "      <td>50.570000</td>\n",
       "      <td>3.097500</td>\n",
       "      <td>47</td>\n",
       "      <td>LILLE</td>\n",
       "    </tr>\n",
       "    <tr>\n",
       "      <th>2</th>\n",
       "      <td>7020</td>\n",
       "      <td>PTE DE LA HAGUE</td>\n",
       "      <td>49.725167</td>\n",
       "      <td>-1.939833</td>\n",
       "      <td>6</td>\n",
       "      <td>PTE DE LA HAGUE</td>\n",
       "    </tr>\n",
       "    <tr>\n",
       "      <th>3</th>\n",
       "      <td>7027</td>\n",
       "      <td>CAEN-CARPIQUET</td>\n",
       "      <td>49.180000</td>\n",
       "      <td>-0.456167</td>\n",
       "      <td>67</td>\n",
       "      <td>CAEN</td>\n",
       "    </tr>\n",
       "    <tr>\n",
       "      <th>4</th>\n",
       "      <td>7037</td>\n",
       "      <td>ROUEN-BOOS</td>\n",
       "      <td>49.383000</td>\n",
       "      <td>1.181667</td>\n",
       "      <td>151</td>\n",
       "      <td>ROUEN</td>\n",
       "    </tr>\n",
       "  </tbody>\n",
       "</table>\n",
       "</div>"
      ],
      "text/plain": [
       "     ID              Nom   Latitude  Longitude  Altitude          nom_alt\n",
       "0  7005        ABBEVILLE  50.136000   1.834000        69        ABBEVILLE\n",
       "1  7015    LILLE-LESQUIN  50.570000   3.097500        47            LILLE\n",
       "2  7020  PTE DE LA HAGUE  49.725167  -1.939833         6  PTE DE LA HAGUE\n",
       "3  7027   CAEN-CARPIQUET  49.180000  -0.456167        67             CAEN\n",
       "4  7037       ROUEN-BOOS  49.383000   1.181667       151            ROUEN"
      ]
     },
     "execution_count": 16,
     "metadata": {},
     "output_type": "execute_result"
    }
   ],
   "source": [
    "station.head()"
   ]
  },
  {
   "cell_type": "code",
   "execution_count": 17,
   "id": "7b84f533-278a-4f24-bd60-02cef0a0f9ad",
   "metadata": {},
   "outputs": [],
   "source": [
    "commune =   pd.read_csv ('Data/communes2020.csv', sep = ',')"
   ]
  },
  {
   "cell_type": "markdown",
   "id": "2b7dcecd-ad3b-4344-99ce-848090680ac0",
   "metadata": {},
   "source": [
    "#### Premiere jointure avec le nom sans modification"
   ]
  },
  {
   "cell_type": "code",
   "execution_count": 18,
   "id": "225d991e-0640-4990-a875-f39a32ffbf3f",
   "metadata": {},
   "outputs": [],
   "source": [
    "station = pd.merge (station,commune[(commune['typecom'] == 'COM')], left_on = 'Nom', right_on = 'ncc' , how='left')"
   ]
  },
  {
   "cell_type": "code",
   "execution_count": 19,
   "id": "0f6a1648-0a6f-4b4d-8ab8-2b9d17b6417d",
   "metadata": {},
   "outputs": [
    {
     "data": {
      "text/html": [
       "<div>\n",
       "<style scoped>\n",
       "    .dataframe tbody tr th:only-of-type {\n",
       "        vertical-align: middle;\n",
       "    }\n",
       "\n",
       "    .dataframe tbody tr th {\n",
       "        vertical-align: top;\n",
       "    }\n",
       "\n",
       "    .dataframe thead th {\n",
       "        text-align: right;\n",
       "    }\n",
       "</style>\n",
       "<table border=\"1\" class=\"dataframe\">\n",
       "  <thead>\n",
       "    <tr style=\"text-align: right;\">\n",
       "      <th></th>\n",
       "      <th>ID</th>\n",
       "      <th>Nom</th>\n",
       "      <th>reg</th>\n",
       "      <th>ncc</th>\n",
       "      <th>nom_alt</th>\n",
       "    </tr>\n",
       "  </thead>\n",
       "  <tbody>\n",
       "    <tr>\n",
       "      <th>0</th>\n",
       "      <td>7005</td>\n",
       "      <td>ABBEVILLE</td>\n",
       "      <td>32.0</td>\n",
       "      <td>ABBEVILLE</td>\n",
       "      <td>ABBEVILLE</td>\n",
       "    </tr>\n",
       "    <tr>\n",
       "      <th>1</th>\n",
       "      <td>7015</td>\n",
       "      <td>LILLE-LESQUIN</td>\n",
       "      <td>NaN</td>\n",
       "      <td>NaN</td>\n",
       "      <td>LILLE</td>\n",
       "    </tr>\n",
       "    <tr>\n",
       "      <th>2</th>\n",
       "      <td>7020</td>\n",
       "      <td>PTE DE LA HAGUE</td>\n",
       "      <td>NaN</td>\n",
       "      <td>NaN</td>\n",
       "      <td>PTE DE LA HAGUE</td>\n",
       "    </tr>\n",
       "    <tr>\n",
       "      <th>3</th>\n",
       "      <td>7027</td>\n",
       "      <td>CAEN-CARPIQUET</td>\n",
       "      <td>NaN</td>\n",
       "      <td>NaN</td>\n",
       "      <td>CAEN</td>\n",
       "    </tr>\n",
       "    <tr>\n",
       "      <th>4</th>\n",
       "      <td>7037</td>\n",
       "      <td>ROUEN-BOOS</td>\n",
       "      <td>NaN</td>\n",
       "      <td>NaN</td>\n",
       "      <td>ROUEN</td>\n",
       "    </tr>\n",
       "  </tbody>\n",
       "</table>\n",
       "</div>"
      ],
      "text/plain": [
       "     ID              Nom   reg        ncc          nom_alt\n",
       "0  7005        ABBEVILLE  32.0  ABBEVILLE        ABBEVILLE\n",
       "1  7015    LILLE-LESQUIN   NaN        NaN            LILLE\n",
       "2  7020  PTE DE LA HAGUE   NaN        NaN  PTE DE LA HAGUE\n",
       "3  7027   CAEN-CARPIQUET   NaN        NaN             CAEN\n",
       "4  7037       ROUEN-BOOS   NaN        NaN            ROUEN"
      ]
     },
     "execution_count": 19,
     "metadata": {},
     "output_type": "execute_result"
    }
   ],
   "source": [
    "station = station [['ID','Nom','reg','ncc','nom_alt']]\n",
    "\n",
    "station.head()"
   ]
  },
  {
   "cell_type": "markdown",
   "id": "4ae0f77e-9401-408e-a6c8-7fefe6b4ce4f",
   "metadata": {},
   "source": [
    "On supprime les doublons"
   ]
  },
  {
   "cell_type": "code",
   "execution_count": 20,
   "id": "2c2209b3-2ab6-467e-99f0-8a1f53cdd5c2",
   "metadata": {},
   "outputs": [],
   "source": [
    "station = station.drop_duplicates(subset='Nom', keep='first')"
   ]
  },
  {
   "cell_type": "markdown",
   "id": "25177009-f021-4adb-bc0b-2796bca9dda9",
   "metadata": {},
   "source": [
    "On sauvegarde les données pour lesquelles on a bien trouver la ville "
   ]
  },
  {
   "cell_type": "code",
   "execution_count": 21,
   "id": "9cf2607e-a652-49af-9b7f-2775f0a47aec",
   "metadata": {},
   "outputs": [],
   "source": [
    "station_v1 =  (station[~(station['reg'].isna())] )"
   ]
  },
  {
   "cell_type": "code",
   "execution_count": 22,
   "id": "47071429-1f99-4909-812d-01975e0e177b",
   "metadata": {},
   "outputs": [
    {
     "data": {
      "text/html": [
       "<div>\n",
       "<style scoped>\n",
       "    .dataframe tbody tr th:only-of-type {\n",
       "        vertical-align: middle;\n",
       "    }\n",
       "\n",
       "    .dataframe tbody tr th {\n",
       "        vertical-align: top;\n",
       "    }\n",
       "\n",
       "    .dataframe thead th {\n",
       "        text-align: right;\n",
       "    }\n",
       "</style>\n",
       "<table border=\"1\" class=\"dataframe\">\n",
       "  <thead>\n",
       "    <tr style=\"text-align: right;\">\n",
       "      <th></th>\n",
       "      <th>ID</th>\n",
       "      <th>Nom</th>\n",
       "      <th>reg</th>\n",
       "      <th>ncc</th>\n",
       "      <th>nom_alt</th>\n",
       "    </tr>\n",
       "  </thead>\n",
       "  <tbody>\n",
       "    <tr>\n",
       "      <th>0</th>\n",
       "      <td>7005</td>\n",
       "      <td>ABBEVILLE</td>\n",
       "      <td>32.0</td>\n",
       "      <td>ABBEVILLE</td>\n",
       "      <td>ABBEVILLE</td>\n",
       "    </tr>\n",
       "    <tr>\n",
       "      <th>9</th>\n",
       "      <td>7139</td>\n",
       "      <td>ALENCON</td>\n",
       "      <td>28.0</td>\n",
       "      <td>ALENCON</td>\n",
       "      <td>ALENCON</td>\n",
       "    </tr>\n",
       "    <tr>\n",
       "      <th>10</th>\n",
       "      <td>7149</td>\n",
       "      <td>ORLY</td>\n",
       "      <td>11.0</td>\n",
       "      <td>ORLY</td>\n",
       "      <td>ORLY</td>\n",
       "    </tr>\n",
       "    <tr>\n",
       "      <th>16</th>\n",
       "      <td>7240</td>\n",
       "      <td>TOURS</td>\n",
       "      <td>24.0</td>\n",
       "      <td>TOURS</td>\n",
       "      <td>TOURS</td>\n",
       "    </tr>\n",
       "    <tr>\n",
       "      <th>17</th>\n",
       "      <td>7255</td>\n",
       "      <td>BOURGES</td>\n",
       "      <td>24.0</td>\n",
       "      <td>BOURGES</td>\n",
       "      <td>BOURGES</td>\n",
       "    </tr>\n",
       "  </tbody>\n",
       "</table>\n",
       "</div>"
      ],
      "text/plain": [
       "      ID        Nom   reg        ncc    nom_alt\n",
       "0   7005  ABBEVILLE  32.0  ABBEVILLE  ABBEVILLE\n",
       "9   7139    ALENCON  28.0    ALENCON    ALENCON\n",
       "10  7149       ORLY  11.0       ORLY       ORLY\n",
       "16  7240      TOURS  24.0      TOURS      TOURS\n",
       "17  7255    BOURGES  24.0    BOURGES    BOURGES"
      ]
     },
     "execution_count": 22,
     "metadata": {},
     "output_type": "execute_result"
    }
   ],
   "source": [
    "station_v1.head()"
   ]
  },
  {
   "cell_type": "markdown",
   "id": "6b0815bc-4208-4e6a-b83c-baf3212ca18c",
   "metadata": {},
   "source": [
    "On prend les NAN restant afin d'essayer la seconde jointure avec le nom modifié"
   ]
  },
  {
   "cell_type": "code",
   "execution_count": 23,
   "id": "f91798c7-d048-4bed-b270-f90c7d904383",
   "metadata": {},
   "outputs": [],
   "source": [
    "station =  (station[(station['reg'].isna())] )\n",
    "station = station [['ID','Nom','nom_alt']]"
   ]
  },
  {
   "cell_type": "code",
   "execution_count": 24,
   "id": "f2806b19-0480-42b2-b000-f1714f71d65a",
   "metadata": {},
   "outputs": [],
   "source": [
    "station = pd.merge (station,commune[(commune['typecom'] == 'COM')], left_on = 'nom_alt', right_on = 'ncc' , how='left')"
   ]
  },
  {
   "cell_type": "code",
   "execution_count": 25,
   "id": "63854993-5af1-4164-8615-355be39a9aab",
   "metadata": {},
   "outputs": [
    {
     "data": {
      "text/html": [
       "<div>\n",
       "<style scoped>\n",
       "    .dataframe tbody tr th:only-of-type {\n",
       "        vertical-align: middle;\n",
       "    }\n",
       "\n",
       "    .dataframe tbody tr th {\n",
       "        vertical-align: top;\n",
       "    }\n",
       "\n",
       "    .dataframe thead th {\n",
       "        text-align: right;\n",
       "    }\n",
       "</style>\n",
       "<table border=\"1\" class=\"dataframe\">\n",
       "  <thead>\n",
       "    <tr style=\"text-align: right;\">\n",
       "      <th></th>\n",
       "      <th>ID</th>\n",
       "      <th>Nom</th>\n",
       "      <th>reg</th>\n",
       "      <th>ncc</th>\n",
       "      <th>nom_alt</th>\n",
       "    </tr>\n",
       "  </thead>\n",
       "  <tbody>\n",
       "    <tr>\n",
       "      <th>0</th>\n",
       "      <td>7015</td>\n",
       "      <td>LILLE-LESQUIN</td>\n",
       "      <td>32.0</td>\n",
       "      <td>LILLE</td>\n",
       "      <td>LILLE</td>\n",
       "    </tr>\n",
       "    <tr>\n",
       "      <th>1</th>\n",
       "      <td>7020</td>\n",
       "      <td>PTE DE LA HAGUE</td>\n",
       "      <td>NaN</td>\n",
       "      <td>NaN</td>\n",
       "      <td>PTE DE LA HAGUE</td>\n",
       "    </tr>\n",
       "    <tr>\n",
       "      <th>2</th>\n",
       "      <td>7027</td>\n",
       "      <td>CAEN-CARPIQUET</td>\n",
       "      <td>28.0</td>\n",
       "      <td>CAEN</td>\n",
       "      <td>CAEN</td>\n",
       "    </tr>\n",
       "    <tr>\n",
       "      <th>3</th>\n",
       "      <td>7037</td>\n",
       "      <td>ROUEN-BOOS</td>\n",
       "      <td>28.0</td>\n",
       "      <td>ROUEN</td>\n",
       "      <td>ROUEN</td>\n",
       "    </tr>\n",
       "    <tr>\n",
       "      <th>4</th>\n",
       "      <td>7072</td>\n",
       "      <td>REIMS-PRUNAY</td>\n",
       "      <td>44.0</td>\n",
       "      <td>REIMS</td>\n",
       "      <td>REIMS</td>\n",
       "    </tr>\n",
       "  </tbody>\n",
       "</table>\n",
       "</div>"
      ],
      "text/plain": [
       "     ID              Nom   reg    ncc          nom_alt\n",
       "0  7015    LILLE-LESQUIN  32.0  LILLE            LILLE\n",
       "1  7020  PTE DE LA HAGUE   NaN    NaN  PTE DE LA HAGUE\n",
       "2  7027   CAEN-CARPIQUET  28.0   CAEN             CAEN\n",
       "3  7037       ROUEN-BOOS  28.0  ROUEN            ROUEN\n",
       "4  7072     REIMS-PRUNAY  44.0  REIMS            REIMS"
      ]
     },
     "execution_count": 25,
     "metadata": {},
     "output_type": "execute_result"
    }
   ],
   "source": [
    "station = station [['ID','Nom','reg','ncc','nom_alt']]\n",
    "station.head()"
   ]
  },
  {
   "cell_type": "markdown",
   "id": "07fdcc61-c9fc-4e98-8b94-d792854410df",
   "metadata": {},
   "source": [
    "On supprime tous les doublons "
   ]
  },
  {
   "cell_type": "code",
   "execution_count": 26,
   "id": "a8745936-971d-4c55-a4c4-917628be7617",
   "metadata": {},
   "outputs": [],
   "source": [
    "station = station.drop_duplicates(subset='Nom', keep=False)\n",
    "station =  (station[~(station['reg'].isna())] )"
   ]
  },
  {
   "cell_type": "markdown",
   "id": "a3ddb1c5-904a-4601-b8ec-ac324ad02fcc",
   "metadata": {},
   "source": [
    "On reconstruit station avec l'ensemble des stations pour lesquelles on a trouver une ville"
   ]
  },
  {
   "cell_type": "code",
   "execution_count": 27,
   "id": "7200d877-ec68-43c3-838e-ede339013a0b",
   "metadata": {},
   "outputs": [],
   "source": [
    "station = pd.concat([ station,station_v1] , axis = 0 )"
   ]
  },
  {
   "cell_type": "code",
   "execution_count": 28,
   "id": "f65e39ea-0aa0-431f-931e-e47db8d01858",
   "metadata": {},
   "outputs": [],
   "source": [
    "del station_v1"
   ]
  },
  {
   "cell_type": "markdown",
   "id": "bb5f5a80-2744-4cd9-bf71-1bad3e94c5f0",
   "metadata": {},
   "source": [
    "On réalise la jointure entre les stations et les données météo"
   ]
  },
  {
   "cell_type": "code",
   "execution_count": 29,
   "id": "d0b099e4-af67-49de-bf1c-d5440edec9d8",
   "metadata": {},
   "outputs": [],
   "source": [
    "weather2 = pd.merge (weather, station, left_on = ['ID OMM station'], right_on = ['ID'], how= 'left')"
   ]
  },
  {
   "cell_type": "markdown",
   "id": "27da4715-e5d4-4bd1-b365-35313f9f9072",
   "metadata": {},
   "source": [
    "Mauvaise surprise il y a des stations qui n'ont toujours pas de région "
   ]
  },
  {
   "cell_type": "code",
   "execution_count": 30,
   "id": "91ca96db-7c50-4d2c-9546-2348020daa19",
   "metadata": {},
   "outputs": [
    {
     "data": {
      "text/plain": [
       "89642    12714\n",
       "61996    12066\n",
       "61968    10434\n",
       "61997    10172\n",
       "71805     9688\n",
       "61998     8884\n",
       "61976     7305\n",
       "61972     5304\n",
       "78894     1560\n",
       "61970      615\n",
       "Name: ID OMM station, dtype: int64"
      ]
     },
     "execution_count": 30,
     "metadata": {},
     "output_type": "execute_result"
    }
   ],
   "source": [
    "weather2['ID OMM station'][weather2['region (code)'].isna()].value_counts()"
   ]
  },
  {
   "cell_type": "markdown",
   "id": "a127b0c0-5ca0-437f-9001-33ca7fdb7f91",
   "metadata": {},
   "source": [
    "Via Google maps on regarde ou sont localisées ces stations \n",
    "\n",
    "station\n",
    "  id \n",
    "89642  ===> Base antartique DUMONT D'URVILLE  \n",
    "61996  ===> NOUVELLE AMSTERDAM (ile au milieu de nulle part)   \n",
    "61968  ===> Les iles Grandes glorieuses ===> Hors sujet   \n",
    "61997  ===> Crozet - Ile de la possession   \n",
    "71805  ===> ST-PIERRE (du coté des états unis)  \n",
    "61998  ===> Ile Kergelen   \n",
    "61976  ===> Ile de TROMELIN ... C'est encore plus petit !!   \n",
    "61972  ===> Ile Europa à l'est de MAdagascar   \n",
    "78894  ===> ST-BARTHELEMY METEO  \n",
    "61970  ====> Un peu plus au nord de Madagascar   \n",
    " \n",
    "Donc on peut simplement  supprimer les enregistrements pour lesquels les régions sont vides"
   ]
  },
  {
   "cell_type": "code",
   "execution_count": 31,
   "id": "c83100e1-355b-40d5-a19d-92e4560f699b",
   "metadata": {},
   "outputs": [
    {
     "name": "stdout",
     "output_type": "stream",
     "text": [
      "weather.shape :  (688136, 23)\n",
      "weather.shape :  (609394, 23)\n"
     ]
    }
   ],
   "source": [
    "print ( 'weather.shape : ' ,weather.shape)\n",
    "weather = weather.dropna ( subset = ['region (code)'])\n",
    "print ('weather.shape : ' ,weather.shape)\n",
    "del weather2"
   ]
  },
  {
   "cell_type": "markdown",
   "id": "84475f6e-907b-40f5-a600-4787c1f001c4",
   "metadata": {
    "tags": []
   },
   "source": [
    "# Traitement des NAN \n",
    "* Précipitations on ne peut pas savoir ... On met à zéro \n",
    "* Humidité moyenne par rapport à la ligne d'avant et d'après \n",
    "* Nebulosité totale :  moyenne par rapport à la ligne d'avant et d'après \n",
    "             A voir si pour les NAN : il ne faudrait pas commencer par mettre les tranches de 1H00 et 4:00 à 100% avant de calculer la moyenne  \n",
    "* température : Moyenne \n",
    "       "
   ]
  },
  {
   "cell_type": "code",
   "execution_count": 32,
   "id": "66e00fc0-40d1-45ea-bbef-2029fe5a33e9",
   "metadata": {},
   "outputs": [],
   "source": [
    "weather[['Précipitations dans les 3 dernières heures','Précipitations dans les 6 dernières heures','Précipitations dans les 12 dernières heures',\n",
    "         'Précipitations dans les 24 dernières heures','Précipitations dans la dernière heure']] = weather[['Précipitations dans les 3 dernières heures','Précipitations dans les 6 dernières heures',\n",
    "                                                                    'Précipitations dans les 12 dernières heures','Précipitations dans les 24 dernières heures','Précipitations dans la dernière heure']].fillna(0) \n"
   ]
  },
  {
   "cell_type": "markdown",
   "id": "8843504d-c18b-4699-9eaa-2d89ca34b9d6",
   "metadata": {},
   "source": [
    "Création d'une seconde colonne de nebulosité pour tester l'effet de la mise  à 100 des données de pleine nuit\n"
   ]
  },
  {
   "cell_type": "code",
   "execution_count": 33,
   "id": "a85df62e-61a7-4c27-97e2-797134be8f27",
   "metadata": {},
   "outputs": [
    {
     "data": {
      "text/plain": [
       "13450"
      ]
     },
     "execution_count": 33,
     "metadata": {},
     "output_type": "execute_result"
    }
   ],
   "source": [
    "weather['Nebulosite totale 2'] = weather['Nebulosité totale']\n",
    "weather['Nebulosite totale 2'][(weather['Nebulosite totale 2'].isna())&(weather['hhmmss'] == '01:00:00')].isna().sum()\n",
    "weather['Nebulosite totale 2'][(weather['Nebulosite totale 2'].isna())&(weather['hhmmss'] == '04:00:00')].isna().sum()"
   ]
  },
  {
   "cell_type": "code",
   "execution_count": 34,
   "id": "69beac70-19cc-48b6-9604-d7190d754705",
   "metadata": {},
   "outputs": [
    {
     "name": "stderr",
     "output_type": "stream",
     "text": [
      "C:\\Users\\bente\\AppData\\Local\\Temp\\ipykernel_4844\\1192439244.py:1: SettingWithCopyWarning: \n",
      "A value is trying to be set on a copy of a slice from a DataFrame\n",
      "\n",
      "See the caveats in the documentation: https://pandas.pydata.org/pandas-docs/stable/user_guide/indexing.html#returning-a-view-versus-a-copy\n",
      "  weather['Nebulosite totale 2'][(weather['Nebulosite totale 2'].isna())&(weather['hhmmss'] == '01:00:00')] = 100\n",
      "C:\\Users\\bente\\AppData\\Local\\Temp\\ipykernel_4844\\1192439244.py:2: SettingWithCopyWarning: \n",
      "A value is trying to be set on a copy of a slice from a DataFrame\n",
      "\n",
      "See the caveats in the documentation: https://pandas.pydata.org/pandas-docs/stable/user_guide/indexing.html#returning-a-view-versus-a-copy\n",
      "  weather['Nebulosite totale 2'][(weather['Nebulosite totale 2'].isna())&(weather['hhmmss'] == '04:00:00')]  = 100\n"
     ]
    }
   ],
   "source": [
    "\n",
    "weather['Nebulosite totale 2'][(weather['Nebulosite totale 2'].isna())&(weather['hhmmss'] == '01:00:00')] = 100\n",
    "weather['Nebulosite totale 2'][(weather['Nebulosite totale 2'].isna())&(weather['hhmmss'] == '04:00:00')]  = 100"
   ]
  },
  {
   "cell_type": "code",
   "execution_count": 35,
   "id": "4f46f5cd-38b0-44ce-b367-b5a51fd8869f",
   "metadata": {},
   "outputs": [
    {
     "data": {
      "text/plain": [
       "Date                                           0.000000\n",
       "ID OMM station                                 0.000000\n",
       "Température (°C)                               0.001774\n",
       "Température minimale sur 12 heures (°C)        0.757689\n",
       "Température minimale sur 24 heures (°C)        1.000000\n",
       "Température maximale sur 12 heures (°C)        0.757686\n",
       "Température maximale sur 24 heures (°C)        1.000000\n",
       "Humidité                                       0.002273\n",
       "Nebulosité totale                              0.457213\n",
       "Rafales sur une période                        0.030745\n",
       "Vitesse du vent moyen 10 mn                    0.002982\n",
       "Précipitations dans la dernière heure          0.000000\n",
       "Précipitations dans les 3 dernières heures     0.000000\n",
       "Précipitations dans les 6 dernières heures     0.000000\n",
       "Précipitations dans les 12 dernières heures    0.000000\n",
       "Précipitations dans les 24 dernières heures    0.000000\n",
       "region (code)                                  0.000000\n",
       "aaaammjj                                       0.000000\n",
       "annee                                          0.000000\n",
       "mois                                           0.000000\n",
       "joursem                                        0.000000\n",
       "jour                                           0.000000\n",
       "hhmmss                                         0.000000\n",
       "Nebulosite totale 2                            0.411136\n",
       "dtype: float64"
      ]
     },
     "execution_count": 35,
     "metadata": {},
     "output_type": "execute_result"
    }
   ],
   "source": [
    "weather.isna().sum()/weather.shape[0]"
   ]
  },
  {
   "cell_type": "markdown",
   "id": "95111369-b728-4b76-9bc7-142be49059ba",
   "metadata": {},
   "source": [
    "Concernant les données de températures minimales, il y a beaucoup trop de NA \n",
    "On supprime les colonnes"
   ]
  },
  {
   "cell_type": "code",
   "execution_count": 36,
   "id": "0aab49a1-14d9-4574-9f00-41e2bd31853f",
   "metadata": {},
   "outputs": [],
   "source": [
    "weather = weather.drop (['Température minimale sur 24 heures (°C)','Température minimale sur 12 heures (°C)','Température maximale sur 24 heures (°C)','Température maximale sur 12 heures (°C)'], axis = 1)"
   ]
  },
  {
   "cell_type": "markdown",
   "id": "0b8d684c-f6b8-46c8-8b30-e1b258a6a1df",
   "metadata": {},
   "source": [
    "\n"
   ]
  },
  {
   "cell_type": "markdown",
   "id": "73caca74-2a1a-4d7c-a5ed-34b4c45cafde",
   "metadata": {},
   "source": [
    "Pour calculer les moyennes on commence par trier le df par région et par date et Heure"
   ]
  },
  {
   "cell_type": "code",
   "execution_count": 37,
   "id": "ddccc76c-7119-44ed-b132-85d7a12dce25",
   "metadata": {},
   "outputs": [],
   "source": [
    "weather = weather.sort_values(by=['ID OMM station','Date']).reset_index()\n",
    "weather = weather.drop ('index', axis = 1)"
   ]
  },
  {
   "cell_type": "markdown",
   "id": "d8d62a36-fe26-435d-a418-6961d7109706",
   "metadata": {},
   "source": [
    "Par itération pour chaque colonne on va chercher pour chaque ligne la valeur d'avant et celle d'après et on en fait une moyenne \n",
    "\n",
    "remarque : Cette étape est un peu longue (environ 10 minutes sur mon pc)  \n"
   ]
  },
  {
   "cell_type": "code",
   "execution_count": 38,
   "id": "9c0d2514-7dcf-4edd-88fd-555c0d9e6e95",
   "metadata": {},
   "outputs": [
    {
     "name": "stdout",
     "output_type": "stream",
     "text": [
      "nombre totales de NAN à traiter :  552186\n"
     ]
    }
   ],
   "source": [
    "# Paramètrage de la boucle \n",
    "\n",
    "column_list = ['Température (°C)','Humidité','Nebulosité totale','Nebulosite totale 2','Rafales sur une période','Vitesse du vent moyen 10 mn']\n",
    "\n",
    "cpt = 0\n",
    "\n",
    "print ('nombre totales de NAN à traiter : ',weather[column_list].isna().sum().sum() )  "
   ]
  },
  {
   "cell_type": "code",
   "execution_count": 39,
   "id": "c0d81e4e-4242-4947-bf3a-2b8ad0b8cb24",
   "metadata": {},
   "outputs": [
    {
     "name": "stdout",
     "output_type": "stream",
     "text": [
      " début :  1657887069.500093\n",
      "colonne traitée : Température (°C)\n"
     ]
    },
    {
     "name": "stderr",
     "output_type": "stream",
     "text": [
      "C:\\Users\\bente\\AppData\\Local\\Packages\\PythonSoftwareFoundation.Python.3.10_qbz5n2kfra8p0\\LocalCache\\local-packages\\Python310\\site-packages\\pandas\\core\\indexing.py:1732: SettingWithCopyWarning: \n",
      "A value is trying to be set on a copy of a slice from a DataFrame\n",
      "\n",
      "See the caveats in the documentation: https://pandas.pydata.org/pandas-docs/stable/user_guide/indexing.html#returning-a-view-versus-a-copy\n",
      "  self._setitem_single_block(indexer, value, name)\n"
     ]
    },
    {
     "name": "stdout",
     "output_type": "stream",
     "text": [
      "colonne traitée : Humidité\n",
      "colonne traitée : Nebulosité totale\n",
      "(609394, 20)\n",
      "100000 lignes traitées - Temps d execution 74.31474542617798\n",
      "nombre de NAN restant  :  452190\n",
      "(609394, 20)\n",
      "100000 lignes traitées - Temps d execution 149.38433051109314\n",
      "nombre de NAN restant  :  352190\n",
      "colonne traitée : Nebulosite totale 2\n",
      "(609394, 20)\n",
      "100000 lignes traitées - Temps d execution 225.10238933563232\n",
      "nombre de NAN restant  :  252191\n",
      "(609394, 20)\n",
      "100000 lignes traitées - Temps d execution 301.610155582428\n",
      "nombre de NAN restant  :  152191\n",
      "(609394, 20)\n",
      "100000 lignes traitées - Temps d execution 379.8134808540344\n",
      "nombre de NAN restant  :  52191\n",
      "colonne traitée : Rafales sur une période\n",
      "colonne traitée : Vitesse du vent moyen 10 mn\n",
      " Fin :  419.20062232017517\n"
     ]
    }
   ],
   "source": [
    "start = time.time()\n",
    "print (' début : ' ,start)\n",
    "    \n",
    "for ma_col in column_list:\n",
    "    cpt +=1\n",
    "    print ('colonne traitée :',ma_col)\n",
    "        \n",
    "    for mon_nan in weather[(weather[ma_col].isna() == True)].index :\n",
    "        cpt +=1\n",
    "        if mon_nan < (weather.shape[0]-1) and mon_nan > 0 :\n",
    "            weather[ma_col].loc[mon_nan] = weather[ma_col].loc[mon_nan -1 : mon_nan +1].mean()\n",
    "                \n",
    "\n",
    "        if cpt == 100000: \n",
    "            print (weather.shape)\n",
    "            print (f'{cpt} lignes traitées - Temps d execution {time.time() - start}') \n",
    "            cpt = 0   \n",
    "\n",
    "            print ('nombre de NAN restant  : ',weather[column_list].isna().sum().sum() )  \n",
    "  \n",
    "print(' Fin : ' ,time.time() - start)"
   ]
  },
  {
   "cell_type": "markdown",
   "id": "95daa9be-249c-463c-ad84-c81b9a6e031f",
   "metadata": {
    "tags": []
   },
   "source": [
    "### controles post traitement   \n",
    "\n",
    "il reste une seule ligne qui concerne la nébulosité : Il s'agit du premier enregistrement du fichier à 1 heure du matin On met la ligne à 100 "
   ]
  },
  {
   "cell_type": "code",
   "execution_count": 40,
   "id": "19175387-cae1-4bce-9e8c-a8d825a68eb6",
   "metadata": {},
   "outputs": [
    {
     "name": "stdout",
     "output_type": "stream",
     "text": [
      "nombre totals de NAN post traitement  :  Date                                           0\n",
      "ID OMM station                                 0\n",
      "Température (°C)                               0\n",
      "Humidité                                       0\n",
      "Nebulosité totale                              1\n",
      "Rafales sur une période                        0\n",
      "Vitesse du vent moyen 10 mn                    0\n",
      "Précipitations dans la dernière heure          0\n",
      "Précipitations dans les 3 dernières heures     0\n",
      "Précipitations dans les 6 dernières heures     0\n",
      "Précipitations dans les 12 dernières heures    0\n",
      "Précipitations dans les 24 dernières heures    0\n",
      "region (code)                                  0\n",
      "aaaammjj                                       0\n",
      "annee                                          0\n",
      "mois                                           0\n",
      "joursem                                        0\n",
      "jour                                           0\n",
      "hhmmss                                         0\n",
      "Nebulosite totale 2                            0\n",
      "dtype: int64\n"
     ]
    }
   ],
   "source": [
    "print ('nombre totals de NAN post traitement  : ',weather.isna().sum() )  "
   ]
  },
  {
   "cell_type": "code",
   "execution_count": 41,
   "id": "fa79a72b-bba5-413f-adc8-7ad1eaee8f43",
   "metadata": {},
   "outputs": [
    {
     "data": {
      "text/html": [
       "<div>\n",
       "<style scoped>\n",
       "    .dataframe tbody tr th:only-of-type {\n",
       "        vertical-align: middle;\n",
       "    }\n",
       "\n",
       "    .dataframe tbody tr th {\n",
       "        vertical-align: top;\n",
       "    }\n",
       "\n",
       "    .dataframe thead th {\n",
       "        text-align: right;\n",
       "    }\n",
       "</style>\n",
       "<table border=\"1\" class=\"dataframe\">\n",
       "  <thead>\n",
       "    <tr style=\"text-align: right;\">\n",
       "      <th></th>\n",
       "      <th>Date</th>\n",
       "      <th>ID OMM station</th>\n",
       "      <th>Température (°C)</th>\n",
       "      <th>Humidité</th>\n",
       "      <th>Nebulosité totale</th>\n",
       "      <th>Rafales sur une période</th>\n",
       "      <th>Vitesse du vent moyen 10 mn</th>\n",
       "      <th>Précipitations dans la dernière heure</th>\n",
       "      <th>Précipitations dans les 3 dernières heures</th>\n",
       "      <th>Précipitations dans les 6 dernières heures</th>\n",
       "      <th>Précipitations dans les 12 dernières heures</th>\n",
       "      <th>Précipitations dans les 24 dernières heures</th>\n",
       "      <th>region (code)</th>\n",
       "      <th>aaaammjj</th>\n",
       "      <th>annee</th>\n",
       "      <th>mois</th>\n",
       "      <th>joursem</th>\n",
       "      <th>jour</th>\n",
       "      <th>hhmmss</th>\n",
       "      <th>Nebulosite totale 2</th>\n",
       "    </tr>\n",
       "  </thead>\n",
       "  <tbody>\n",
       "    <tr>\n",
       "      <th>0</th>\n",
       "      <td>2015-01-01T01:00:00+01:00</td>\n",
       "      <td>7005</td>\n",
       "      <td>-0.6</td>\n",
       "      <td>89.0</td>\n",
       "      <td>NaN</td>\n",
       "      <td>3.9</td>\n",
       "      <td>2.8</td>\n",
       "      <td>0.0</td>\n",
       "      <td>0.0</td>\n",
       "      <td>0.0</td>\n",
       "      <td>0.0</td>\n",
       "      <td>0.0</td>\n",
       "      <td>32.0</td>\n",
       "      <td>2015-01-01</td>\n",
       "      <td>2015</td>\n",
       "      <td>1</td>\n",
       "      <td>3</td>\n",
       "      <td>1</td>\n",
       "      <td>01:00:00</td>\n",
       "      <td>100.0</td>\n",
       "    </tr>\n",
       "  </tbody>\n",
       "</table>\n",
       "</div>"
      ],
      "text/plain": [
       "                        Date  ID OMM station  Température (°C)  Humidité  \\\n",
       "0  2015-01-01T01:00:00+01:00            7005              -0.6      89.0   \n",
       "\n",
       "   Nebulosité totale  Rafales sur une période  Vitesse du vent moyen 10 mn  \\\n",
       "0                NaN                      3.9                          2.8   \n",
       "\n",
       "   Précipitations dans la dernière heure  \\\n",
       "0                                    0.0   \n",
       "\n",
       "   Précipitations dans les 3 dernières heures  \\\n",
       "0                                         0.0   \n",
       "\n",
       "   Précipitations dans les 6 dernières heures  \\\n",
       "0                                         0.0   \n",
       "\n",
       "   Précipitations dans les 12 dernières heures  \\\n",
       "0                                          0.0   \n",
       "\n",
       "   Précipitations dans les 24 dernières heures  region (code)   aaaammjj  \\\n",
       "0                                          0.0           32.0 2015-01-01   \n",
       "\n",
       "   annee  mois  joursem  jour    hhmmss  Nebulosite totale 2  \n",
       "0   2015     1        3     1  01:00:00                100.0  "
      ]
     },
     "execution_count": 41,
     "metadata": {},
     "output_type": "execute_result"
    }
   ],
   "source": [
    "weather[(weather['Nebulosité totale'].isna())].head()"
   ]
  },
  {
   "cell_type": "code",
   "execution_count": 42,
   "id": "9b25cb04-c08e-4c2b-a389-1883db9c0109",
   "metadata": {},
   "outputs": [
    {
     "data": {
      "text/html": [
       "<div>\n",
       "<style scoped>\n",
       "    .dataframe tbody tr th:only-of-type {\n",
       "        vertical-align: middle;\n",
       "    }\n",
       "\n",
       "    .dataframe tbody tr th {\n",
       "        vertical-align: top;\n",
       "    }\n",
       "\n",
       "    .dataframe thead th {\n",
       "        text-align: right;\n",
       "    }\n",
       "</style>\n",
       "<table border=\"1\" class=\"dataframe\">\n",
       "  <thead>\n",
       "    <tr style=\"text-align: right;\">\n",
       "      <th></th>\n",
       "      <th>Date</th>\n",
       "      <th>ID OMM station</th>\n",
       "      <th>Température (°C)</th>\n",
       "      <th>Humidité</th>\n",
       "      <th>Nebulosité totale</th>\n",
       "      <th>Rafales sur une période</th>\n",
       "      <th>Vitesse du vent moyen 10 mn</th>\n",
       "      <th>Précipitations dans la dernière heure</th>\n",
       "      <th>Précipitations dans les 3 dernières heures</th>\n",
       "      <th>Précipitations dans les 6 dernières heures</th>\n",
       "      <th>Précipitations dans les 12 dernières heures</th>\n",
       "      <th>Précipitations dans les 24 dernières heures</th>\n",
       "      <th>region (code)</th>\n",
       "      <th>aaaammjj</th>\n",
       "      <th>annee</th>\n",
       "      <th>mois</th>\n",
       "      <th>joursem</th>\n",
       "      <th>jour</th>\n",
       "      <th>hhmmss</th>\n",
       "      <th>Nebulosite totale 2</th>\n",
       "    </tr>\n",
       "  </thead>\n",
       "  <tbody>\n",
       "  </tbody>\n",
       "</table>\n",
       "</div>"
      ],
      "text/plain": [
       "Empty DataFrame\n",
       "Columns: [Date, ID OMM station, Température (°C), Humidité, Nebulosité totale, Rafales sur une période, Vitesse du vent moyen 10 mn, Précipitations dans la dernière heure, Précipitations dans les 3 dernières heures, Précipitations dans les 6 dernières heures, Précipitations dans les 12 dernières heures, Précipitations dans les 24 dernières heures, region (code), aaaammjj, annee, mois, joursem, jour, hhmmss, Nebulosite totale 2]\n",
       "Index: []"
      ]
     },
     "execution_count": 42,
     "metadata": {},
     "output_type": "execute_result"
    }
   ],
   "source": [
    "weather['Nebulosité totale'].fillna(100, inplace = True)\n",
    "\n",
    "weather[(weather['Nebulosité totale'].isna())].head()"
   ]
  },
  {
   "cell_type": "markdown",
   "id": "e0f10b9f-df9d-45f2-b76a-7e0611558cd8",
   "metadata": {},
   "source": [
    "## Changement des noms des colonnes \n",
    "weather = weather.rename ({'Température (°C)' : 'Temp', 'Humidité' : 'humidite', 'Nebulosité totale' : 'Nebulosité'})"
   ]
  },
  {
   "cell_type": "code",
   "execution_count": 43,
   "id": "4a2365c3-e74f-40c2-8ead-c99b2f5aaf7b",
   "metadata": {},
   "outputs": [
    {
     "data": {
      "text/html": [
       "<div>\n",
       "<style scoped>\n",
       "    .dataframe tbody tr th:only-of-type {\n",
       "        vertical-align: middle;\n",
       "    }\n",
       "\n",
       "    .dataframe tbody tr th {\n",
       "        vertical-align: top;\n",
       "    }\n",
       "\n",
       "    .dataframe thead th {\n",
       "        text-align: right;\n",
       "    }\n",
       "</style>\n",
       "<table border=\"1\" class=\"dataframe\">\n",
       "  <thead>\n",
       "    <tr style=\"text-align: right;\">\n",
       "      <th></th>\n",
       "      <th>Date</th>\n",
       "      <th>ID OMM station</th>\n",
       "      <th>temp</th>\n",
       "      <th>humidite</th>\n",
       "      <th>nebulosite</th>\n",
       "      <th>rafale_periode</th>\n",
       "      <th>vitesse_vent</th>\n",
       "      <th>pluie_1h</th>\n",
       "      <th>pluie_3h</th>\n",
       "      <th>pluie_6h</th>\n",
       "      <th>pluie_12h</th>\n",
       "      <th>pluie_24h</th>\n",
       "      <th>region</th>\n",
       "      <th>aaaammjj</th>\n",
       "      <th>annee</th>\n",
       "      <th>mois</th>\n",
       "      <th>joursem</th>\n",
       "      <th>jour</th>\n",
       "      <th>hhmmss</th>\n",
       "      <th>nebulosite2</th>\n",
       "    </tr>\n",
       "  </thead>\n",
       "  <tbody>\n",
       "    <tr>\n",
       "      <th>0</th>\n",
       "      <td>2015-01-01T01:00:00+01:00</td>\n",
       "      <td>7005</td>\n",
       "      <td>-0.6</td>\n",
       "      <td>89.0</td>\n",
       "      <td>100.0</td>\n",
       "      <td>3.9</td>\n",
       "      <td>2.8</td>\n",
       "      <td>0.0</td>\n",
       "      <td>0.0</td>\n",
       "      <td>0.0</td>\n",
       "      <td>0.0</td>\n",
       "      <td>0.0</td>\n",
       "      <td>32.0</td>\n",
       "      <td>2015-01-01</td>\n",
       "      <td>2015</td>\n",
       "      <td>1</td>\n",
       "      <td>3</td>\n",
       "      <td>1</td>\n",
       "      <td>01:00:00</td>\n",
       "      <td>100.0</td>\n",
       "    </tr>\n",
       "    <tr>\n",
       "      <th>1</th>\n",
       "      <td>2015-01-01T04:00:00+01:00</td>\n",
       "      <td>7005</td>\n",
       "      <td>-0.8</td>\n",
       "      <td>88.0</td>\n",
       "      <td>0.0</td>\n",
       "      <td>5.1</td>\n",
       "      <td>3.2</td>\n",
       "      <td>0.0</td>\n",
       "      <td>0.0</td>\n",
       "      <td>0.0</td>\n",
       "      <td>0.0</td>\n",
       "      <td>0.0</td>\n",
       "      <td>32.0</td>\n",
       "      <td>2015-01-01</td>\n",
       "      <td>2015</td>\n",
       "      <td>1</td>\n",
       "      <td>3</td>\n",
       "      <td>1</td>\n",
       "      <td>04:00:00</td>\n",
       "      <td>100.0</td>\n",
       "    </tr>\n",
       "    <tr>\n",
       "      <th>2</th>\n",
       "      <td>2015-01-01T07:00:00+01:00</td>\n",
       "      <td>7005</td>\n",
       "      <td>-0.3</td>\n",
       "      <td>84.0</td>\n",
       "      <td>0.0</td>\n",
       "      <td>5.0</td>\n",
       "      <td>3.4</td>\n",
       "      <td>0.0</td>\n",
       "      <td>0.0</td>\n",
       "      <td>0.0</td>\n",
       "      <td>0.0</td>\n",
       "      <td>0.0</td>\n",
       "      <td>32.0</td>\n",
       "      <td>2015-01-01</td>\n",
       "      <td>2015</td>\n",
       "      <td>1</td>\n",
       "      <td>3</td>\n",
       "      <td>1</td>\n",
       "      <td>07:00:00</td>\n",
       "      <td>0.0</td>\n",
       "    </tr>\n",
       "    <tr>\n",
       "      <th>3</th>\n",
       "      <td>2015-01-01T10:00:00+01:00</td>\n",
       "      <td>7005</td>\n",
       "      <td>1.1</td>\n",
       "      <td>78.0</td>\n",
       "      <td>25.0</td>\n",
       "      <td>5.7</td>\n",
       "      <td>3.2</td>\n",
       "      <td>0.0</td>\n",
       "      <td>0.0</td>\n",
       "      <td>0.0</td>\n",
       "      <td>0.0</td>\n",
       "      <td>0.0</td>\n",
       "      <td>32.0</td>\n",
       "      <td>2015-01-01</td>\n",
       "      <td>2015</td>\n",
       "      <td>1</td>\n",
       "      <td>3</td>\n",
       "      <td>1</td>\n",
       "      <td>10:00:00</td>\n",
       "      <td>25.0</td>\n",
       "    </tr>\n",
       "    <tr>\n",
       "      <th>4</th>\n",
       "      <td>2015-01-01T13:00:00+01:00</td>\n",
       "      <td>7005</td>\n",
       "      <td>5.3</td>\n",
       "      <td>60.0</td>\n",
       "      <td>90.0</td>\n",
       "      <td>10.2</td>\n",
       "      <td>5.4</td>\n",
       "      <td>0.0</td>\n",
       "      <td>0.0</td>\n",
       "      <td>0.0</td>\n",
       "      <td>0.0</td>\n",
       "      <td>0.0</td>\n",
       "      <td>32.0</td>\n",
       "      <td>2015-01-01</td>\n",
       "      <td>2015</td>\n",
       "      <td>1</td>\n",
       "      <td>3</td>\n",
       "      <td>1</td>\n",
       "      <td>13:00:00</td>\n",
       "      <td>90.0</td>\n",
       "    </tr>\n",
       "  </tbody>\n",
       "</table>\n",
       "</div>"
      ],
      "text/plain": [
       "                        Date  ID OMM station  temp  humidite  nebulosite  \\\n",
       "0  2015-01-01T01:00:00+01:00            7005  -0.6      89.0       100.0   \n",
       "1  2015-01-01T04:00:00+01:00            7005  -0.8      88.0         0.0   \n",
       "2  2015-01-01T07:00:00+01:00            7005  -0.3      84.0         0.0   \n",
       "3  2015-01-01T10:00:00+01:00            7005   1.1      78.0        25.0   \n",
       "4  2015-01-01T13:00:00+01:00            7005   5.3      60.0        90.0   \n",
       "\n",
       "   rafale_periode  vitesse_vent  pluie_1h  pluie_3h  pluie_6h  pluie_12h  \\\n",
       "0             3.9           2.8       0.0       0.0       0.0        0.0   \n",
       "1             5.1           3.2       0.0       0.0       0.0        0.0   \n",
       "2             5.0           3.4       0.0       0.0       0.0        0.0   \n",
       "3             5.7           3.2       0.0       0.0       0.0        0.0   \n",
       "4            10.2           5.4       0.0       0.0       0.0        0.0   \n",
       "\n",
       "   pluie_24h  region   aaaammjj  annee  mois  joursem  jour    hhmmss  \\\n",
       "0        0.0    32.0 2015-01-01   2015     1        3     1  01:00:00   \n",
       "1        0.0    32.0 2015-01-01   2015     1        3     1  04:00:00   \n",
       "2        0.0    32.0 2015-01-01   2015     1        3     1  07:00:00   \n",
       "3        0.0    32.0 2015-01-01   2015     1        3     1  10:00:00   \n",
       "4        0.0    32.0 2015-01-01   2015     1        3     1  13:00:00   \n",
       "\n",
       "   nebulosite2  \n",
       "0        100.0  \n",
       "1        100.0  \n",
       "2          0.0  \n",
       "3         25.0  \n",
       "4         90.0  "
      ]
     },
     "execution_count": 43,
     "metadata": {},
     "output_type": "execute_result"
    }
   ],
   "source": [
    "weather = weather.rename ({'Température (°C)' : 'temp', 'Humidité' : 'humidite', 'Nebulosité totale' : 'nebulosite',\n",
    "                           'Rafales sur une période' : 'rafale_periode' , 'Nebulosite totale 2' :'nebulosite2',\n",
    "                         'Periode de mesure de la rafale' : 'periode_mesure_rafale' ,'Vitesse du vent moyen 10 mn' : 'vitesse_vent',\n",
    "                           'Précipitations dans la dernière heure' : 'pluie_1h',\n",
    "                         'Précipitations dans les 3 dernières heures' : 'pluie_3h','Précipitations dans les 6 dernières heures' : 'pluie_6h',\n",
    "                         'Précipitations dans les 12 dernières heures' :  'pluie_12h', 'Précipitations dans les 24 dernières heures' :'pluie_24h',\n",
    "                         'region (code)' : 'region'}, axis = 1)\n",
    "weather.head()"
   ]
  },
  {
   "cell_type": "markdown",
   "id": "26d72b94-962e-4a7d-bfbc-c29f500cd31d",
   "metadata": {
    "tags": []
   },
   "source": [
    "### Aggrégation des données "
   ]
  },
  {
   "cell_type": "code",
   "execution_count": 44,
   "id": "27c46cbb-14e9-4e75-b3be-a2128145257d",
   "metadata": {},
   "outputs": [
    {
     "name": "stdout",
     "output_type": "stream",
     "text": [
      "(23737, 17)\n"
     ]
    }
   ],
   "source": [
    "weather_agg = weather.groupby (['region','aaaammjj','annee','mois','joursem','jour'], as_index=False ).agg({'temp':'mean','humidite': 'mean', 'nebulosite':'mean',\n",
    "                                                                               'nebulosite2':'mean','rafale_periode':'mean','vitesse_vent':'mean',\n",
    "                                                                               'pluie_1h': 'sum',  'pluie_3h': 'sum','pluie_6h': 'sum','pluie_12h': 'sum',\n",
    "                                                                                'pluie_24h': 'sum'})\n",
    "\n",
    "\n",
    "print (weather_agg.shape)"
   ]
  },
  {
   "cell_type": "markdown",
   "id": "37e56255-d051-435f-b707-29b9aa3c876b",
   "metadata": {
    "tags": []
   },
   "source": [
    "### Modification des types de données"
   ]
  },
  {
   "cell_type": "code",
   "execution_count": 45,
   "id": "c0b28d70-aa42-4a6f-b942-8a7888458c44",
   "metadata": {},
   "outputs": [],
   "source": [
    "weather_agg = weather_agg.astype({'region':'int'})"
   ]
  },
  {
   "cell_type": "markdown",
   "id": "8add5718-331a-4ee8-b92d-b1fd72c331b5",
   "metadata": {},
   "source": [
    "### quelques vérifications "
   ]
  },
  {
   "cell_type": "code",
   "execution_count": 46,
   "id": "3c6e84de-2af6-4757-b893-1c2d2864ff75",
   "metadata": {},
   "outputs": [
    {
     "data": {
      "text/html": [
       "<div>\n",
       "<style scoped>\n",
       "    .dataframe tbody tr th:only-of-type {\n",
       "        vertical-align: middle;\n",
       "    }\n",
       "\n",
       "    .dataframe tbody tr th {\n",
       "        vertical-align: top;\n",
       "    }\n",
       "\n",
       "    .dataframe thead th {\n",
       "        text-align: right;\n",
       "    }\n",
       "</style>\n",
       "<table border=\"1\" class=\"dataframe\">\n",
       "  <thead>\n",
       "    <tr style=\"text-align: right;\">\n",
       "      <th>col_0</th>\n",
       "      <th>23737</th>\n",
       "    </tr>\n",
       "    <tr>\n",
       "      <th>region</th>\n",
       "      <th></th>\n",
       "    </tr>\n",
       "  </thead>\n",
       "  <tbody>\n",
       "    <tr>\n",
       "      <th>11</th>\n",
       "      <td>1826</td>\n",
       "    </tr>\n",
       "    <tr>\n",
       "      <th>24</th>\n",
       "      <td>1826</td>\n",
       "    </tr>\n",
       "    <tr>\n",
       "      <th>27</th>\n",
       "      <td>1825</td>\n",
       "    </tr>\n",
       "    <tr>\n",
       "      <th>28</th>\n",
       "      <td>1826</td>\n",
       "    </tr>\n",
       "    <tr>\n",
       "      <th>32</th>\n",
       "      <td>1826</td>\n",
       "    </tr>\n",
       "    <tr>\n",
       "      <th>44</th>\n",
       "      <td>1826</td>\n",
       "    </tr>\n",
       "    <tr>\n",
       "      <th>52</th>\n",
       "      <td>1826</td>\n",
       "    </tr>\n",
       "    <tr>\n",
       "      <th>53</th>\n",
       "      <td>1826</td>\n",
       "    </tr>\n",
       "    <tr>\n",
       "      <th>75</th>\n",
       "      <td>1826</td>\n",
       "    </tr>\n",
       "    <tr>\n",
       "      <th>76</th>\n",
       "      <td>1826</td>\n",
       "    </tr>\n",
       "    <tr>\n",
       "      <th>84</th>\n",
       "      <td>1826</td>\n",
       "    </tr>\n",
       "    <tr>\n",
       "      <th>93</th>\n",
       "      <td>1826</td>\n",
       "    </tr>\n",
       "    <tr>\n",
       "      <th>94</th>\n",
       "      <td>1826</td>\n",
       "    </tr>\n",
       "  </tbody>\n",
       "</table>\n",
       "</div>"
      ],
      "text/plain": [
       "col_0   23737\n",
       "region       \n",
       "11       1826\n",
       "24       1826\n",
       "27       1825\n",
       "28       1826\n",
       "32       1826\n",
       "44       1826\n",
       "52       1826\n",
       "53       1826\n",
       "75       1826\n",
       "76       1826\n",
       "84       1826\n",
       "93       1826\n",
       "94       1826"
      ]
     },
     "execution_count": 46,
     "metadata": {},
     "output_type": "execute_result"
    }
   ],
   "source": [
    "# quelques vérifications \n",
    "pd.crosstab(weather_agg['annee'], weather_agg['annee'].count())\n",
    "\n",
    "pd.crosstab(weather_agg['region'], weather_agg['annee'].count())\n",
    "\n",
    "# pd.crosstab(weather_agg['pluie_1h'], weather_agg['pluie_1h'].sum())"
   ]
  },
  {
   "cell_type": "code",
   "execution_count": 47,
   "id": "edbc9fce-15dd-4e33-a35a-7ee8cc594bc8",
   "metadata": {},
   "outputs": [
    {
     "data": {
      "text/html": [
       "<div>\n",
       "<style scoped>\n",
       "    .dataframe tbody tr th:only-of-type {\n",
       "        vertical-align: middle;\n",
       "    }\n",
       "\n",
       "    .dataframe tbody tr th {\n",
       "        vertical-align: top;\n",
       "    }\n",
       "\n",
       "    .dataframe thead th {\n",
       "        text-align: right;\n",
       "    }\n",
       "</style>\n",
       "<table border=\"1\" class=\"dataframe\">\n",
       "  <thead>\n",
       "    <tr style=\"text-align: right;\">\n",
       "      <th></th>\n",
       "      <th>region</th>\n",
       "      <th>aaaammjj</th>\n",
       "      <th>annee</th>\n",
       "      <th>mois</th>\n",
       "      <th>joursem</th>\n",
       "      <th>jour</th>\n",
       "      <th>temp</th>\n",
       "      <th>humidite</th>\n",
       "      <th>nebulosite</th>\n",
       "      <th>nebulosite2</th>\n",
       "      <th>rafale_periode</th>\n",
       "      <th>vitesse_vent</th>\n",
       "      <th>pluie_1h</th>\n",
       "      <th>pluie_3h</th>\n",
       "      <th>pluie_6h</th>\n",
       "      <th>pluie_12h</th>\n",
       "      <th>pluie_24h</th>\n",
       "    </tr>\n",
       "  </thead>\n",
       "  <tbody>\n",
       "    <tr>\n",
       "      <th>0</th>\n",
       "      <td>11</td>\n",
       "      <td>2015-01-01</td>\n",
       "      <td>2015</td>\n",
       "      <td>1</td>\n",
       "      <td>3</td>\n",
       "      <td>1</td>\n",
       "      <td>0.4000</td>\n",
       "      <td>84.250</td>\n",
       "      <td>30.6250</td>\n",
       "      <td>30.625</td>\n",
       "      <td>3.5875</td>\n",
       "      <td>1.8500</td>\n",
       "      <td>0.0</td>\n",
       "      <td>0.0</td>\n",
       "      <td>0.0</td>\n",
       "      <td>0.0</td>\n",
       "      <td>0.0</td>\n",
       "    </tr>\n",
       "    <tr>\n",
       "      <th>1</th>\n",
       "      <td>11</td>\n",
       "      <td>2015-01-02</td>\n",
       "      <td>2015</td>\n",
       "      <td>1</td>\n",
       "      <td>4</td>\n",
       "      <td>2</td>\n",
       "      <td>4.0625</td>\n",
       "      <td>88.375</td>\n",
       "      <td>73.7500</td>\n",
       "      <td>73.750</td>\n",
       "      <td>6.1250</td>\n",
       "      <td>3.2625</td>\n",
       "      <td>0.0</td>\n",
       "      <td>0.2</td>\n",
       "      <td>0.4</td>\n",
       "      <td>0.8</td>\n",
       "      <td>1.2</td>\n",
       "    </tr>\n",
       "    <tr>\n",
       "      <th>2</th>\n",
       "      <td>11</td>\n",
       "      <td>2015-01-03</td>\n",
       "      <td>2015</td>\n",
       "      <td>1</td>\n",
       "      <td>5</td>\n",
       "      <td>3</td>\n",
       "      <td>6.9250</td>\n",
       "      <td>93.125</td>\n",
       "      <td>92.0625</td>\n",
       "      <td>97.625</td>\n",
       "      <td>9.2750</td>\n",
       "      <td>4.5625</td>\n",
       "      <td>0.8</td>\n",
       "      <td>3.0</td>\n",
       "      <td>6.0</td>\n",
       "      <td>10.4</td>\n",
       "      <td>12.2</td>\n",
       "    </tr>\n",
       "    <tr>\n",
       "      <th>3</th>\n",
       "      <td>11</td>\n",
       "      <td>2015-01-04</td>\n",
       "      <td>2015</td>\n",
       "      <td>1</td>\n",
       "      <td>6</td>\n",
       "      <td>4</td>\n",
       "      <td>4.3250</td>\n",
       "      <td>83.750</td>\n",
       "      <td>72.5000</td>\n",
       "      <td>72.500</td>\n",
       "      <td>4.0500</td>\n",
       "      <td>2.2625</td>\n",
       "      <td>0.2</td>\n",
       "      <td>1.2</td>\n",
       "      <td>2.4</td>\n",
       "      <td>6.4</td>\n",
       "      <td>21.8</td>\n",
       "    </tr>\n",
       "    <tr>\n",
       "      <th>4</th>\n",
       "      <td>11</td>\n",
       "      <td>2015-01-05</td>\n",
       "      <td>2015</td>\n",
       "      <td>1</td>\n",
       "      <td>0</td>\n",
       "      <td>5</td>\n",
       "      <td>-0.3875</td>\n",
       "      <td>95.250</td>\n",
       "      <td>77.1250</td>\n",
       "      <td>77.125</td>\n",
       "      <td>2.3875</td>\n",
       "      <td>1.1375</td>\n",
       "      <td>0.0</td>\n",
       "      <td>0.0</td>\n",
       "      <td>0.0</td>\n",
       "      <td>0.0</td>\n",
       "      <td>0.0</td>\n",
       "    </tr>\n",
       "  </tbody>\n",
       "</table>\n",
       "</div>"
      ],
      "text/plain": [
       "   region   aaaammjj  annee  mois  joursem  jour    temp  humidite  \\\n",
       "0      11 2015-01-01   2015     1        3     1  0.4000    84.250   \n",
       "1      11 2015-01-02   2015     1        4     2  4.0625    88.375   \n",
       "2      11 2015-01-03   2015     1        5     3  6.9250    93.125   \n",
       "3      11 2015-01-04   2015     1        6     4  4.3250    83.750   \n",
       "4      11 2015-01-05   2015     1        0     5 -0.3875    95.250   \n",
       "\n",
       "   nebulosite  nebulosite2  rafale_periode  vitesse_vent  pluie_1h  pluie_3h  \\\n",
       "0     30.6250       30.625          3.5875        1.8500       0.0       0.0   \n",
       "1     73.7500       73.750          6.1250        3.2625       0.0       0.2   \n",
       "2     92.0625       97.625          9.2750        4.5625       0.8       3.0   \n",
       "3     72.5000       72.500          4.0500        2.2625       0.2       1.2   \n",
       "4     77.1250       77.125          2.3875        1.1375       0.0       0.0   \n",
       "\n",
       "   pluie_6h  pluie_12h  pluie_24h  \n",
       "0       0.0        0.0        0.0  \n",
       "1       0.4        0.8        1.2  \n",
       "2       6.0       10.4       12.2  \n",
       "3       2.4        6.4       21.8  \n",
       "4       0.0        0.0        0.0  "
      ]
     },
     "execution_count": 47,
     "metadata": {},
     "output_type": "execute_result"
    }
   ],
   "source": [
    "weather_agg.head()"
   ]
  },
  {
   "cell_type": "markdown",
   "id": "80b1a7fc-9c07-441a-ab69-464131d9db06",
   "metadata": {},
   "source": [
    "### Sortie des données sous forme de fichier "
   ]
  },
  {
   "cell_type": "code",
   "execution_count": 48,
   "id": "d9ce611a-6086-46b2-8b23-c190ec9984b9",
   "metadata": {},
   "outputs": [],
   "source": [
    "weather_agg.to_csv ('Data/weather_out.csv',index=False)"
   ]
  }
 ],
 "metadata": {
  "kernelspec": {
   "display_name": "Python 3 (ipykernel)",
   "language": "python",
   "name": "python3"
  },
  "language_info": {
   "codemirror_mode": {
    "name": "ipython",
    "version": 3
   },
   "file_extension": ".py",
   "mimetype": "text/x-python",
   "name": "python",
   "nbconvert_exporter": "python",
   "pygments_lexer": "ipython3",
   "version": "3.10.5"
  }
 },
 "nbformat": 4,
 "nbformat_minor": 5
}
