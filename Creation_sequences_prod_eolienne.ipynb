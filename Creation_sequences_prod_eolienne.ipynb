{
 "cells": [
  {
   "cell_type": "code",
   "execution_count": 36,
   "metadata": {},
   "outputs": [],
   "source": [
    "# Librairies\n",
    "import pandas as pd\n",
    "import numpy as np\n",
    "import pickle\n",
    "import os"
   ]
  },
  {
   "cell_type": "code",
   "execution_count": 37,
   "metadata": {},
   "outputs": [],
   "source": [
    "# Répertoires\n",
    "repertoire_data = os.getcwd() + '\\\\Data\\\\'"
   ]
  },
  {
   "cell_type": "code",
   "execution_count": 38,
   "metadata": {},
   "outputs": [],
   "source": [
    "repertoire_data = 'D:\\\\OneDrive\\\\Data_science\\\\Datascientest\\\\Py-wer\\\\GitHub\\\\Py-wer-Generation\\\\Data\\\\'"
   ]
  },
  {
   "cell_type": "markdown",
   "metadata": {},
   "source": [
    "### Lecture du fichier vent"
   ]
  },
  {
   "cell_type": "code",
   "execution_count": 39,
   "metadata": {},
   "outputs": [],
   "source": [
    "vent = pd.read_csv(\n",
    "    repertoire_data + 'vent_regions.csv',\n",
    "    sep=';',\n",
    "    decimal='.',\n",
    "    parse_dates=['Date'],\n",
    "    dayfirst=True,\n",
    "    index_col=['Date']\n",
    "    )"
   ]
  },
  {
   "cell_type": "code",
   "execution_count": 40,
   "metadata": {},
   "outputs": [],
   "source": [
    "vent.index = pd.to_datetime(vent.index)\n",
    "vent = vent[vent.index>='2019-01']\n",
    "semaines = vent[vent['Code INSEE region']==11].index #Sélection d'une région au hasard pour récupérer les numéros de semaine uniques"
   ]
  },
  {
   "cell_type": "code",
   "execution_count": 41,
   "metadata": {},
   "outputs": [
    {
     "data": {
      "text/html": [
       "<div>\n",
       "<style scoped>\n",
       "    .dataframe tbody tr th:only-of-type {\n",
       "        vertical-align: middle;\n",
       "    }\n",
       "\n",
       "    .dataframe tbody tr th {\n",
       "        vertical-align: top;\n",
       "    }\n",
       "\n",
       "    .dataframe thead th {\n",
       "        text-align: right;\n",
       "    }\n",
       "</style>\n",
       "<table border=\"1\" class=\"dataframe\">\n",
       "  <thead>\n",
       "    <tr style=\"text-align: right;\">\n",
       "      <th></th>\n",
       "      <th>Code INSEE region</th>\n",
       "      <th>vitesse_vent</th>\n",
       "      <th>vent_min</th>\n",
       "      <th>vent_faible</th>\n",
       "      <th>vent_moyen</th>\n",
       "      <th>vent_fort</th>\n",
       "      <th>vent_max</th>\n",
       "      <th>year</th>\n",
       "      <th>week</th>\n",
       "      <th>mois</th>\n",
       "    </tr>\n",
       "    <tr>\n",
       "      <th>Date</th>\n",
       "      <th></th>\n",
       "      <th></th>\n",
       "      <th></th>\n",
       "      <th></th>\n",
       "      <th></th>\n",
       "      <th></th>\n",
       "      <th></th>\n",
       "      <th></th>\n",
       "      <th></th>\n",
       "      <th></th>\n",
       "    </tr>\n",
       "  </thead>\n",
       "  <tbody>\n",
       "    <tr>\n",
       "      <th>2019-01-06</th>\n",
       "      <td>11</td>\n",
       "      <td>3.400000</td>\n",
       "      <td>0.788</td>\n",
       "      <td>2.135</td>\n",
       "      <td>3.483</td>\n",
       "      <td>6.235</td>\n",
       "      <td>8.988</td>\n",
       "      <td>2019</td>\n",
       "      <td>1</td>\n",
       "      <td>1</td>\n",
       "    </tr>\n",
       "    <tr>\n",
       "      <th>2019-01-06</th>\n",
       "      <td>24</td>\n",
       "      <td>2.381250</td>\n",
       "      <td>0.906</td>\n",
       "      <td>2.099</td>\n",
       "      <td>3.292</td>\n",
       "      <td>5.793</td>\n",
       "      <td>8.294</td>\n",
       "      <td>2019</td>\n",
       "      <td>1</td>\n",
       "      <td>1</td>\n",
       "    </tr>\n",
       "    <tr>\n",
       "      <th>2019-01-06</th>\n",
       "      <td>27</td>\n",
       "      <td>2.987500</td>\n",
       "      <td>0.825</td>\n",
       "      <td>2.006</td>\n",
       "      <td>3.186</td>\n",
       "      <td>5.449</td>\n",
       "      <td>7.713</td>\n",
       "      <td>2019</td>\n",
       "      <td>1</td>\n",
       "      <td>1</td>\n",
       "    </tr>\n",
       "    <tr>\n",
       "      <th>2019-01-06</th>\n",
       "      <td>28</td>\n",
       "      <td>2.603125</td>\n",
       "      <td>1.013</td>\n",
       "      <td>2.888</td>\n",
       "      <td>4.764</td>\n",
       "      <td>7.759</td>\n",
       "      <td>10.753</td>\n",
       "      <td>2019</td>\n",
       "      <td>1</td>\n",
       "      <td>1</td>\n",
       "    </tr>\n",
       "    <tr>\n",
       "      <th>2019-01-06</th>\n",
       "      <td>32</td>\n",
       "      <td>2.593750</td>\n",
       "      <td>1.219</td>\n",
       "      <td>2.786</td>\n",
       "      <td>4.353</td>\n",
       "      <td>8.026</td>\n",
       "      <td>11.700</td>\n",
       "      <td>2019</td>\n",
       "      <td>1</td>\n",
       "      <td>1</td>\n",
       "    </tr>\n",
       "  </tbody>\n",
       "</table>\n",
       "</div>"
      ],
      "text/plain": [
       "            Code INSEE region  vitesse_vent  vent_min  vent_faible  \\\n",
       "Date                                                                 \n",
       "2019-01-06                 11      3.400000     0.788        2.135   \n",
       "2019-01-06                 24      2.381250     0.906        2.099   \n",
       "2019-01-06                 27      2.987500     0.825        2.006   \n",
       "2019-01-06                 28      2.603125     1.013        2.888   \n",
       "2019-01-06                 32      2.593750     1.219        2.786   \n",
       "\n",
       "            vent_moyen  vent_fort  vent_max  year  week  mois  \n",
       "Date                                                           \n",
       "2019-01-06       3.483      6.235     8.988  2019     1     1  \n",
       "2019-01-06       3.292      5.793     8.294  2019     1     1  \n",
       "2019-01-06       3.186      5.449     7.713  2019     1     1  \n",
       "2019-01-06       4.764      7.759    10.753  2019     1     1  \n",
       "2019-01-06       4.353      8.026    11.700  2019     1     1  "
      ]
     },
     "execution_count": 41,
     "metadata": {},
     "output_type": "execute_result"
    }
   ],
   "source": [
    "vent.head()"
   ]
  },
  {
   "cell_type": "markdown",
   "metadata": {},
   "source": [
    "### Création des fichiers vent_min, vent_faible, vent_moyen, vent_fort et vent_max"
   ]
  },
  {
   "cell_type": "code",
   "execution_count": 42,
   "metadata": {},
   "outputs": [],
   "source": [
    "vent_min = vent[['Code INSEE region', 'vent_min']]\n",
    "vent_faible = vent[['Code INSEE region', 'vent_faible']]\n",
    "vent_moyen = vent[['Code INSEE region', 'vent_moyen']]\n",
    "vent_fort = vent[['Code INSEE region', 'vent_fort']]\n",
    "vent_max = vent[['Code INSEE region', 'vent_max']]"
   ]
  },
  {
   "cell_type": "code",
   "execution_count": 43,
   "metadata": {},
   "outputs": [
    {
     "data": {
      "text/html": [
       "<div>\n",
       "<style scoped>\n",
       "    .dataframe tbody tr th:only-of-type {\n",
       "        vertical-align: middle;\n",
       "    }\n",
       "\n",
       "    .dataframe tbody tr th {\n",
       "        vertical-align: top;\n",
       "    }\n",
       "\n",
       "    .dataframe thead th {\n",
       "        text-align: right;\n",
       "    }\n",
       "</style>\n",
       "<table border=\"1\" class=\"dataframe\">\n",
       "  <thead>\n",
       "    <tr style=\"text-align: right;\">\n",
       "      <th></th>\n",
       "      <th>Code INSEE region</th>\n",
       "      <th>vent_moyen</th>\n",
       "    </tr>\n",
       "    <tr>\n",
       "      <th>Date</th>\n",
       "      <th></th>\n",
       "      <th></th>\n",
       "    </tr>\n",
       "  </thead>\n",
       "  <tbody>\n",
       "    <tr>\n",
       "      <th>2019-01-06</th>\n",
       "      <td>11</td>\n",
       "      <td>3.483</td>\n",
       "    </tr>\n",
       "    <tr>\n",
       "      <th>2019-01-06</th>\n",
       "      <td>24</td>\n",
       "      <td>3.292</td>\n",
       "    </tr>\n",
       "    <tr>\n",
       "      <th>2019-01-06</th>\n",
       "      <td>27</td>\n",
       "      <td>3.186</td>\n",
       "    </tr>\n",
       "    <tr>\n",
       "      <th>2019-01-06</th>\n",
       "      <td>28</td>\n",
       "      <td>4.764</td>\n",
       "    </tr>\n",
       "    <tr>\n",
       "      <th>2019-01-06</th>\n",
       "      <td>32</td>\n",
       "      <td>4.353</td>\n",
       "    </tr>\n",
       "  </tbody>\n",
       "</table>\n",
       "</div>"
      ],
      "text/plain": [
       "            Code INSEE region  vent_moyen\n",
       "Date                                     \n",
       "2019-01-06                 11       3.483\n",
       "2019-01-06                 24       3.292\n",
       "2019-01-06                 27       3.186\n",
       "2019-01-06                 28       4.764\n",
       "2019-01-06                 32       4.353"
      ]
     },
     "execution_count": 43,
     "metadata": {},
     "output_type": "execute_result"
    }
   ],
   "source": [
    "vent_moyen.head()"
   ]
  },
  {
   "cell_type": "markdown",
   "metadata": {},
   "source": [
    "### Modélisation sur une seule région"
   ]
  },
  {
   "cell_type": "code",
   "execution_count": 44,
   "metadata": {},
   "outputs": [],
   "source": [
    "\"\"\"Test sur la région 11 pour un exemple\n",
    "\"\"\"\n",
    "\n",
    "# Chargement d'un modèle pour la région 11 par exemple\n",
    "os.chdir('D:\\\\OneDrive\\\\Data_science\\\\Datascientest\\\\Py-wer\\\\GitHub\\\\Py-wer-Generation\\\\Modeles\\\\')\n",
    "model_11 = pickle.load(open('eolienh_11.pkl', 'rb'))\n",
    "\n",
    "# Création des df vent pour la région 11\n",
    "vent_min_11 = vent_min[vent_min['Code INSEE region']==11]\n",
    "vent_moyen_11 = vent_moyen[vent_moyen['Code INSEE region']==11]\n",
    "vent_max_11 = vent_max[vent_max['Code INSEE region']==11]"
   ]
  },
  {
   "cell_type": "code",
   "execution_count": 45,
   "metadata": {},
   "outputs": [
    {
     "data": {
      "text/html": [
       "<div>\n",
       "<style scoped>\n",
       "    .dataframe tbody tr th:only-of-type {\n",
       "        vertical-align: middle;\n",
       "    }\n",
       "\n",
       "    .dataframe tbody tr th {\n",
       "        vertical-align: top;\n",
       "    }\n",
       "\n",
       "    .dataframe thead th {\n",
       "        text-align: right;\n",
       "    }\n",
       "</style>\n",
       "<table border=\"1\" class=\"dataframe\">\n",
       "  <thead>\n",
       "    <tr style=\"text-align: right;\">\n",
       "      <th></th>\n",
       "      <th>Code INSEE region</th>\n",
       "      <th>vent_min</th>\n",
       "    </tr>\n",
       "    <tr>\n",
       "      <th>Date</th>\n",
       "      <th></th>\n",
       "      <th></th>\n",
       "    </tr>\n",
       "  </thead>\n",
       "  <tbody>\n",
       "    <tr>\n",
       "      <th>2019-01-06</th>\n",
       "      <td>11</td>\n",
       "      <td>0.788</td>\n",
       "    </tr>\n",
       "    <tr>\n",
       "      <th>2019-01-13</th>\n",
       "      <td>11</td>\n",
       "      <td>0.788</td>\n",
       "    </tr>\n",
       "    <tr>\n",
       "      <th>2019-01-20</th>\n",
       "      <td>11</td>\n",
       "      <td>0.788</td>\n",
       "    </tr>\n",
       "    <tr>\n",
       "      <th>2019-01-27</th>\n",
       "      <td>11</td>\n",
       "      <td>0.788</td>\n",
       "    </tr>\n",
       "    <tr>\n",
       "      <th>2019-02-03</th>\n",
       "      <td>11</td>\n",
       "      <td>0.950</td>\n",
       "    </tr>\n",
       "  </tbody>\n",
       "</table>\n",
       "</div>"
      ],
      "text/plain": [
       "            Code INSEE region  vent_min\n",
       "Date                                   \n",
       "2019-01-06                 11     0.788\n",
       "2019-01-13                 11     0.788\n",
       "2019-01-20                 11     0.788\n",
       "2019-01-27                 11     0.788\n",
       "2019-02-03                 11     0.950"
      ]
     },
     "execution_count": 45,
     "metadata": {},
     "output_type": "execute_result"
    }
   ],
   "source": [
    "vent_min_11.head()"
   ]
  },
  {
   "cell_type": "code",
   "execution_count": 46,
   "metadata": {},
   "outputs": [
    {
     "name": "stderr",
     "output_type": "stream",
     "text": [
      "c:\\Users\\simon\\anaconda3\\lib\\site-packages\\sklearn\\base.py:493: FutureWarning: The feature names should match those that were passed during fit. Starting version 1.2, an error will be raised.\n",
      "Feature names unseen at fit time:\n",
      "- vent_min\n",
      "Feature names seen at fit time, yet now missing:\n",
      "- vitesse_vent\n",
      "\n",
      "  warnings.warn(message, FutureWarning)\n"
     ]
    },
    {
     "data": {
      "text/plain": [
       "array([2.75838297, 2.75838297, 2.75838297, 2.75838297, 3.3254617 ,\n",
       "       3.3254617 , 3.3254617 , 3.3254617 , 3.3254617 , 3.3254617 ,\n",
       "       3.3254617 , 3.3254617 , 3.3254617 , 4.11307106, 4.11307106,\n",
       "       4.11307106, 4.11307106, 6.30087481, 6.30087481, 6.30087481,\n",
       "       6.30087481, 5.68828976, 5.68828976, 5.68828976, 5.68828976,\n",
       "       5.68828976, 5.25072901, 5.25072901, 5.25072901, 5.25072901,\n",
       "       4.98819256, 4.98819256, 4.98819256, 4.98819256, 2.2753159 ,\n",
       "       2.2753159 , 2.2753159 , 2.2753159 , 2.2753159 , 3.10843157,\n",
       "       3.10843157, 3.10843157, 3.10843157, 1.48770655, 1.48770655,\n",
       "       1.48770655, 1.48770655, 4.72565611, 4.72565611, 4.72565611,\n",
       "       4.72565611, 4.72565611])"
      ]
     },
     "execution_count": 46,
     "metadata": {},
     "output_type": "execute_result"
    }
   ],
   "source": [
    "# Prédictions\n",
    "predictions = model_11.predict(vent_min_11[['vent_min']])\n",
    "predictions"
   ]
  },
  {
   "cell_type": "markdown",
   "metadata": {},
   "source": [
    "### Modélisation sur toutes les régions"
   ]
  },
  {
   "cell_type": "code",
   "execution_count": 47,
   "metadata": {},
   "outputs": [],
   "source": [
    "# Chargement des modèles\n",
    "os.chdir('D:\\\\OneDrive\\\\Data_science\\\\Datascientest\\\\Py-wer\\\\GitHub\\\\Py-wer-Generation\\\\Modeles\\\\')\n",
    "\n",
    "model_11 = pickle.load(open('eolienh_11.pkl', 'rb'))\n",
    "model_24 = pickle.load(open('eolienh_24.pkl', 'rb'))\n",
    "model_27 = pickle.load(open('eolienh_27.pkl', 'rb'))\n",
    "model_28 = pickle.load(open('eolienh_28.pkl', 'rb'))\n",
    "model_32 = pickle.load(open('eolienh_32.pkl', 'rb'))\n",
    "model_44 = pickle.load(open('eolienh_44.pkl', 'rb'))\n",
    "model_52 = pickle.load(open('eolienh_52.pkl', 'rb'))\n",
    "model_53 = pickle.load(open('eolienh_53.pkl', 'rb'))\n",
    "model_75 = pickle.load(open('eolienh_75.pkl', 'rb'))\n",
    "model_76 = pickle.load(open('eolienh_76.pkl', 'rb'))\n",
    "model_84 = pickle.load(open('eolienh_84.pkl', 'rb'))\n",
    "model_93 = pickle.load(open('eolienh_93.pkl', 'rb'))"
   ]
  },
  {
   "cell_type": "code",
   "execution_count": 48,
   "metadata": {},
   "outputs": [
    {
     "data": {
      "text/plain": [
       "array([11, 24, 27, 28, 32, 44, 52, 53, 75, 76, 84, 93], dtype=int64)"
      ]
     },
     "execution_count": 48,
     "metadata": {},
     "output_type": "execute_result"
    }
   ],
   "source": [
    "liste_regions = vent['Code INSEE region'].unique()\n",
    "liste_regions"
   ]
  },
  {
   "cell_type": "code",
   "execution_count": 49,
   "metadata": {},
   "outputs": [],
   "source": [
    "modeles_eolien = {\n",
    "    11:model_11,\n",
    "    24:model_24,\n",
    "    27:model_27,\n",
    "    28:model_28,\n",
    "    32:model_32,\n",
    "    44:model_44,\n",
    "    52:model_52,\n",
    "    53:model_53,\n",
    "    75:model_75,\n",
    "    76:model_76,\n",
    "    84:model_84,\n",
    "    93:model_93\n",
    "    }"
   ]
  },
  {
   "cell_type": "markdown",
   "metadata": {},
   "source": [
    "#### Modélisation vent minimum"
   ]
  },
  {
   "cell_type": "code",
   "execution_count": 50,
   "metadata": {},
   "outputs": [],
   "source": [
    "predictions_vent_min = np.zeros(shape=(52, 1))\n",
    "param_vent = 'vent_min'"
   ]
  },
  {
   "cell_type": "code",
   "execution_count": 51,
   "metadata": {},
   "outputs": [
    {
     "name": "stderr",
     "output_type": "stream",
     "text": [
      "c:\\Users\\simon\\anaconda3\\lib\\site-packages\\sklearn\\base.py:450: UserWarning: X does not have valid feature names, but LinearRegression was fitted with feature names\n",
      "  warnings.warn(\n",
      "c:\\Users\\simon\\anaconda3\\lib\\site-packages\\sklearn\\base.py:450: UserWarning: X does not have valid feature names, but LinearRegression was fitted with feature names\n",
      "  warnings.warn(\n",
      "c:\\Users\\simon\\anaconda3\\lib\\site-packages\\sklearn\\base.py:450: UserWarning: X does not have valid feature names, but LinearRegression was fitted with feature names\n",
      "  warnings.warn(\n",
      "c:\\Users\\simon\\anaconda3\\lib\\site-packages\\sklearn\\base.py:450: UserWarning: X does not have valid feature names, but LinearRegression was fitted with feature names\n",
      "  warnings.warn(\n",
      "c:\\Users\\simon\\anaconda3\\lib\\site-packages\\sklearn\\base.py:450: UserWarning: X does not have valid feature names, but LinearRegression was fitted with feature names\n",
      "  warnings.warn(\n",
      "c:\\Users\\simon\\anaconda3\\lib\\site-packages\\sklearn\\base.py:450: UserWarning: X does not have valid feature names, but LinearRegression was fitted with feature names\n",
      "  warnings.warn(\n",
      "c:\\Users\\simon\\anaconda3\\lib\\site-packages\\sklearn\\base.py:450: UserWarning: X does not have valid feature names, but LinearRegression was fitted with feature names\n",
      "  warnings.warn(\n",
      "c:\\Users\\simon\\anaconda3\\lib\\site-packages\\sklearn\\base.py:450: UserWarning: X does not have valid feature names, but LinearRegression was fitted with feature names\n",
      "  warnings.warn(\n",
      "c:\\Users\\simon\\anaconda3\\lib\\site-packages\\sklearn\\base.py:450: UserWarning: X does not have valid feature names, but LinearRegression was fitted with feature names\n",
      "  warnings.warn(\n",
      "c:\\Users\\simon\\anaconda3\\lib\\site-packages\\sklearn\\base.py:450: UserWarning: X does not have valid feature names, but LinearRegression was fitted with feature names\n",
      "  warnings.warn(\n",
      "c:\\Users\\simon\\anaconda3\\lib\\site-packages\\sklearn\\base.py:450: UserWarning: X does not have valid feature names, but LinearRegression was fitted with feature names\n",
      "  warnings.warn(\n",
      "c:\\Users\\simon\\anaconda3\\lib\\site-packages\\sklearn\\base.py:450: UserWarning: X does not have valid feature names, but LinearRegression was fitted with feature names\n",
      "  warnings.warn(\n"
     ]
    }
   ],
   "source": [
    "for region in liste_regions:\n",
    "    vent_r = vent[vent['Code INSEE region']==region][param_vent]\n",
    "    vent_r = np.array(vent_r).reshape(-1, 1)\n",
    "    predictions_r = modeles_eolien[region].predict(vent_r)\n",
    "    predictions_r = predictions_r.reshape(52, 1)\n",
    "    predictions_vent_min += predictions_r\n",
    "\n",
    "predictions_vent_min = pd.DataFrame(predictions_vent_min)\n",
    "predictions_vent_min.rename(\n",
    "    {0:'Vent_min'},\n",
    "    axis=1,\n",
    "    inplace=True\n",
    "    )\n",
    "predictions_vent_min.index = semaines"
   ]
  },
  {
   "cell_type": "markdown",
   "metadata": {},
   "source": [
    "#### Modélisation vent faible"
   ]
  },
  {
   "cell_type": "code",
   "execution_count": 52,
   "metadata": {},
   "outputs": [],
   "source": [
    "predictions_vent_faible = np.zeros(shape=(52, 1))\n",
    "param_vent = 'vent_faible'"
   ]
  },
  {
   "cell_type": "code",
   "execution_count": 53,
   "metadata": {},
   "outputs": [
    {
     "name": "stderr",
     "output_type": "stream",
     "text": [
      "c:\\Users\\simon\\anaconda3\\lib\\site-packages\\sklearn\\base.py:450: UserWarning: X does not have valid feature names, but LinearRegression was fitted with feature names\n",
      "  warnings.warn(\n",
      "c:\\Users\\simon\\anaconda3\\lib\\site-packages\\sklearn\\base.py:450: UserWarning: X does not have valid feature names, but LinearRegression was fitted with feature names\n",
      "  warnings.warn(\n",
      "c:\\Users\\simon\\anaconda3\\lib\\site-packages\\sklearn\\base.py:450: UserWarning: X does not have valid feature names, but LinearRegression was fitted with feature names\n",
      "  warnings.warn(\n",
      "c:\\Users\\simon\\anaconda3\\lib\\site-packages\\sklearn\\base.py:450: UserWarning: X does not have valid feature names, but LinearRegression was fitted with feature names\n",
      "  warnings.warn(\n",
      "c:\\Users\\simon\\anaconda3\\lib\\site-packages\\sklearn\\base.py:450: UserWarning: X does not have valid feature names, but LinearRegression was fitted with feature names\n",
      "  warnings.warn(\n",
      "c:\\Users\\simon\\anaconda3\\lib\\site-packages\\sklearn\\base.py:450: UserWarning: X does not have valid feature names, but LinearRegression was fitted with feature names\n",
      "  warnings.warn(\n",
      "c:\\Users\\simon\\anaconda3\\lib\\site-packages\\sklearn\\base.py:450: UserWarning: X does not have valid feature names, but LinearRegression was fitted with feature names\n",
      "  warnings.warn(\n",
      "c:\\Users\\simon\\anaconda3\\lib\\site-packages\\sklearn\\base.py:450: UserWarning: X does not have valid feature names, but LinearRegression was fitted with feature names\n",
      "  warnings.warn(\n",
      "c:\\Users\\simon\\anaconda3\\lib\\site-packages\\sklearn\\base.py:450: UserWarning: X does not have valid feature names, but LinearRegression was fitted with feature names\n",
      "  warnings.warn(\n",
      "c:\\Users\\simon\\anaconda3\\lib\\site-packages\\sklearn\\base.py:450: UserWarning: X does not have valid feature names, but LinearRegression was fitted with feature names\n",
      "  warnings.warn(\n",
      "c:\\Users\\simon\\anaconda3\\lib\\site-packages\\sklearn\\base.py:450: UserWarning: X does not have valid feature names, but LinearRegression was fitted with feature names\n",
      "  warnings.warn(\n",
      "c:\\Users\\simon\\anaconda3\\lib\\site-packages\\sklearn\\base.py:450: UserWarning: X does not have valid feature names, but LinearRegression was fitted with feature names\n",
      "  warnings.warn(\n"
     ]
    }
   ],
   "source": [
    "for region in liste_regions:\n",
    "    vent_r = vent[vent['Code INSEE region']==region][param_vent]\n",
    "    vent_r = np.array(vent_r).reshape(-1, 1)\n",
    "    predictions_r = modeles_eolien[region].predict(vent_r)\n",
    "    predictions_r = predictions_r.reshape(52, 1)\n",
    "    predictions_vent_faible += predictions_r\n",
    "\n",
    "predictions_vent_faible = pd.DataFrame(predictions_vent_faible)\n",
    "predictions_vent_faible.rename(\n",
    "    {0:'Vent_faible'},\n",
    "    axis=1,\n",
    "    inplace=True\n",
    "    )\n",
    "predictions_vent_faible.index = semaines"
   ]
  },
  {
   "cell_type": "markdown",
   "metadata": {},
   "source": [
    "#### Modélisation vent moyen"
   ]
  },
  {
   "cell_type": "code",
   "execution_count": 54,
   "metadata": {},
   "outputs": [],
   "source": [
    "predictions_vent_moyen = np.zeros(shape=(52, 1))\n",
    "param_vent = 'vent_moyen'"
   ]
  },
  {
   "cell_type": "code",
   "execution_count": 55,
   "metadata": {},
   "outputs": [
    {
     "name": "stderr",
     "output_type": "stream",
     "text": [
      "c:\\Users\\simon\\anaconda3\\lib\\site-packages\\sklearn\\base.py:450: UserWarning: X does not have valid feature names, but LinearRegression was fitted with feature names\n",
      "  warnings.warn(\n",
      "c:\\Users\\simon\\anaconda3\\lib\\site-packages\\sklearn\\base.py:450: UserWarning: X does not have valid feature names, but LinearRegression was fitted with feature names\n",
      "  warnings.warn(\n",
      "c:\\Users\\simon\\anaconda3\\lib\\site-packages\\sklearn\\base.py:450: UserWarning: X does not have valid feature names, but LinearRegression was fitted with feature names\n",
      "  warnings.warn(\n",
      "c:\\Users\\simon\\anaconda3\\lib\\site-packages\\sklearn\\base.py:450: UserWarning: X does not have valid feature names, but LinearRegression was fitted with feature names\n",
      "  warnings.warn(\n",
      "c:\\Users\\simon\\anaconda3\\lib\\site-packages\\sklearn\\base.py:450: UserWarning: X does not have valid feature names, but LinearRegression was fitted with feature names\n",
      "  warnings.warn(\n",
      "c:\\Users\\simon\\anaconda3\\lib\\site-packages\\sklearn\\base.py:450: UserWarning: X does not have valid feature names, but LinearRegression was fitted with feature names\n",
      "  warnings.warn(\n",
      "c:\\Users\\simon\\anaconda3\\lib\\site-packages\\sklearn\\base.py:450: UserWarning: X does not have valid feature names, but LinearRegression was fitted with feature names\n",
      "  warnings.warn(\n",
      "c:\\Users\\simon\\anaconda3\\lib\\site-packages\\sklearn\\base.py:450: UserWarning: X does not have valid feature names, but LinearRegression was fitted with feature names\n",
      "  warnings.warn(\n",
      "c:\\Users\\simon\\anaconda3\\lib\\site-packages\\sklearn\\base.py:450: UserWarning: X does not have valid feature names, but LinearRegression was fitted with feature names\n",
      "  warnings.warn(\n",
      "c:\\Users\\simon\\anaconda3\\lib\\site-packages\\sklearn\\base.py:450: UserWarning: X does not have valid feature names, but LinearRegression was fitted with feature names\n",
      "  warnings.warn(\n",
      "c:\\Users\\simon\\anaconda3\\lib\\site-packages\\sklearn\\base.py:450: UserWarning: X does not have valid feature names, but LinearRegression was fitted with feature names\n",
      "  warnings.warn(\n",
      "c:\\Users\\simon\\anaconda3\\lib\\site-packages\\sklearn\\base.py:450: UserWarning: X does not have valid feature names, but LinearRegression was fitted with feature names\n",
      "  warnings.warn(\n"
     ]
    }
   ],
   "source": [
    "for region in liste_regions:\n",
    "    vent_r = vent[vent['Code INSEE region']==region][param_vent]\n",
    "    vent_r = np.array(vent_r).reshape(-1, 1)\n",
    "    predictions_r = modeles_eolien[region].predict(vent_r)\n",
    "    predictions_r = predictions_r.reshape(52, 1)\n",
    "    predictions_vent_moyen += predictions_r\n",
    "\n",
    "predictions_vent_moyen = pd.DataFrame(predictions_vent_moyen)\n",
    "predictions_vent_moyen.rename(\n",
    "    {0:'Vent_moyen'},\n",
    "    axis=1,\n",
    "    inplace=True\n",
    "    )\n",
    "predictions_vent_moyen.index = semaines"
   ]
  },
  {
   "cell_type": "markdown",
   "metadata": {},
   "source": [
    "#### Modélisation vent fort"
   ]
  },
  {
   "cell_type": "code",
   "execution_count": 56,
   "metadata": {},
   "outputs": [],
   "source": [
    "predictions_vent_fort = np.zeros(shape=(52, 1))\n",
    "param_vent = 'vent_fort'"
   ]
  },
  {
   "cell_type": "code",
   "execution_count": 57,
   "metadata": {},
   "outputs": [
    {
     "name": "stderr",
     "output_type": "stream",
     "text": [
      "c:\\Users\\simon\\anaconda3\\lib\\site-packages\\sklearn\\base.py:450: UserWarning: X does not have valid feature names, but LinearRegression was fitted with feature names\n",
      "  warnings.warn(\n",
      "c:\\Users\\simon\\anaconda3\\lib\\site-packages\\sklearn\\base.py:450: UserWarning: X does not have valid feature names, but LinearRegression was fitted with feature names\n",
      "  warnings.warn(\n",
      "c:\\Users\\simon\\anaconda3\\lib\\site-packages\\sklearn\\base.py:450: UserWarning: X does not have valid feature names, but LinearRegression was fitted with feature names\n",
      "  warnings.warn(\n",
      "c:\\Users\\simon\\anaconda3\\lib\\site-packages\\sklearn\\base.py:450: UserWarning: X does not have valid feature names, but LinearRegression was fitted with feature names\n",
      "  warnings.warn(\n",
      "c:\\Users\\simon\\anaconda3\\lib\\site-packages\\sklearn\\base.py:450: UserWarning: X does not have valid feature names, but LinearRegression was fitted with feature names\n",
      "  warnings.warn(\n",
      "c:\\Users\\simon\\anaconda3\\lib\\site-packages\\sklearn\\base.py:450: UserWarning: X does not have valid feature names, but LinearRegression was fitted with feature names\n",
      "  warnings.warn(\n",
      "c:\\Users\\simon\\anaconda3\\lib\\site-packages\\sklearn\\base.py:450: UserWarning: X does not have valid feature names, but LinearRegression was fitted with feature names\n",
      "  warnings.warn(\n",
      "c:\\Users\\simon\\anaconda3\\lib\\site-packages\\sklearn\\base.py:450: UserWarning: X does not have valid feature names, but LinearRegression was fitted with feature names\n",
      "  warnings.warn(\n",
      "c:\\Users\\simon\\anaconda3\\lib\\site-packages\\sklearn\\base.py:450: UserWarning: X does not have valid feature names, but LinearRegression was fitted with feature names\n",
      "  warnings.warn(\n",
      "c:\\Users\\simon\\anaconda3\\lib\\site-packages\\sklearn\\base.py:450: UserWarning: X does not have valid feature names, but LinearRegression was fitted with feature names\n",
      "  warnings.warn(\n",
      "c:\\Users\\simon\\anaconda3\\lib\\site-packages\\sklearn\\base.py:450: UserWarning: X does not have valid feature names, but LinearRegression was fitted with feature names\n",
      "  warnings.warn(\n",
      "c:\\Users\\simon\\anaconda3\\lib\\site-packages\\sklearn\\base.py:450: UserWarning: X does not have valid feature names, but LinearRegression was fitted with feature names\n",
      "  warnings.warn(\n"
     ]
    }
   ],
   "source": [
    "for region in liste_regions:\n",
    "    vent_r = vent[vent['Code INSEE region']==region][param_vent]\n",
    "    vent_r = np.array(vent_r).reshape(-1, 1)\n",
    "    predictions_r = modeles_eolien[region].predict(vent_r)\n",
    "    predictions_r = predictions_r.reshape(52, 1)\n",
    "    predictions_vent_fort += predictions_r\n",
    "\n",
    "predictions_vent_fort = pd.DataFrame(predictions_vent_fort)\n",
    "predictions_vent_fort.rename(\n",
    "    {0:'Vent_fort'},\n",
    "    axis=1,\n",
    "    inplace=True\n",
    "    )\n",
    "predictions_vent_fort.index = semaines"
   ]
  },
  {
   "cell_type": "markdown",
   "metadata": {},
   "source": [
    "#### Modélisation vent max"
   ]
  },
  {
   "cell_type": "code",
   "execution_count": 58,
   "metadata": {},
   "outputs": [],
   "source": [
    "predictions_vent_max = np.zeros(shape=(52, 1))\n",
    "param_vent = 'vent_max'"
   ]
  },
  {
   "cell_type": "code",
   "execution_count": 59,
   "metadata": {},
   "outputs": [
    {
     "name": "stderr",
     "output_type": "stream",
     "text": [
      "c:\\Users\\simon\\anaconda3\\lib\\site-packages\\sklearn\\base.py:450: UserWarning: X does not have valid feature names, but LinearRegression was fitted with feature names\n",
      "  warnings.warn(\n",
      "c:\\Users\\simon\\anaconda3\\lib\\site-packages\\sklearn\\base.py:450: UserWarning: X does not have valid feature names, but LinearRegression was fitted with feature names\n",
      "  warnings.warn(\n",
      "c:\\Users\\simon\\anaconda3\\lib\\site-packages\\sklearn\\base.py:450: UserWarning: X does not have valid feature names, but LinearRegression was fitted with feature names\n",
      "  warnings.warn(\n",
      "c:\\Users\\simon\\anaconda3\\lib\\site-packages\\sklearn\\base.py:450: UserWarning: X does not have valid feature names, but LinearRegression was fitted with feature names\n",
      "  warnings.warn(\n",
      "c:\\Users\\simon\\anaconda3\\lib\\site-packages\\sklearn\\base.py:450: UserWarning: X does not have valid feature names, but LinearRegression was fitted with feature names\n",
      "  warnings.warn(\n",
      "c:\\Users\\simon\\anaconda3\\lib\\site-packages\\sklearn\\base.py:450: UserWarning: X does not have valid feature names, but LinearRegression was fitted with feature names\n",
      "  warnings.warn(\n",
      "c:\\Users\\simon\\anaconda3\\lib\\site-packages\\sklearn\\base.py:450: UserWarning: X does not have valid feature names, but LinearRegression was fitted with feature names\n",
      "  warnings.warn(\n",
      "c:\\Users\\simon\\anaconda3\\lib\\site-packages\\sklearn\\base.py:450: UserWarning: X does not have valid feature names, but LinearRegression was fitted with feature names\n",
      "  warnings.warn(\n",
      "c:\\Users\\simon\\anaconda3\\lib\\site-packages\\sklearn\\base.py:450: UserWarning: X does not have valid feature names, but LinearRegression was fitted with feature names\n",
      "  warnings.warn(\n",
      "c:\\Users\\simon\\anaconda3\\lib\\site-packages\\sklearn\\base.py:450: UserWarning: X does not have valid feature names, but LinearRegression was fitted with feature names\n",
      "  warnings.warn(\n",
      "c:\\Users\\simon\\anaconda3\\lib\\site-packages\\sklearn\\base.py:450: UserWarning: X does not have valid feature names, but LinearRegression was fitted with feature names\n",
      "  warnings.warn(\n",
      "c:\\Users\\simon\\anaconda3\\lib\\site-packages\\sklearn\\base.py:450: UserWarning: X does not have valid feature names, but LinearRegression was fitted with feature names\n",
      "  warnings.warn(\n"
     ]
    }
   ],
   "source": [
    "for region in liste_regions:\n",
    "    vent_r = vent[vent['Code INSEE region']==region][param_vent]\n",
    "    vent_r = np.array(vent_r).reshape(-1, 1)\n",
    "    predictions_r = modeles_eolien[region].predict(vent_r)\n",
    "    predictions_r = predictions_r.reshape(52, 1)\n",
    "    predictions_vent_max += predictions_r\n",
    "\n",
    "predictions_vent_max = pd.DataFrame(predictions_vent_max)\n",
    "predictions_vent_max.rename(\n",
    "    {0:'Vent_max'},\n",
    "    axis=1,\n",
    "    inplace=True\n",
    "    )\n",
    "predictions_vent_max.index = semaines"
   ]
  },
  {
   "cell_type": "markdown",
   "metadata": {},
   "source": [
    "### Fusion des trois séquences de prédiction"
   ]
  },
  {
   "cell_type": "code",
   "execution_count": 60,
   "metadata": {},
   "outputs": [
    {
     "data": {
      "text/plain": [
       "Index(['Vent minimum', 'Vent faible', 'Vent moyen', 'Vent fort',\n",
       "       'Vent maximum'],\n",
       "      dtype='object')"
      ]
     },
     "execution_count": 60,
     "metadata": {},
     "output_type": "execute_result"
    }
   ],
   "source": [
    "predictions_vent.columns"
   ]
  },
  {
   "cell_type": "code",
   "execution_count": 61,
   "metadata": {},
   "outputs": [
    {
     "data": {
      "text/html": [
       "<div>\n",
       "<style scoped>\n",
       "    .dataframe tbody tr th:only-of-type {\n",
       "        vertical-align: middle;\n",
       "    }\n",
       "\n",
       "    .dataframe tbody tr th {\n",
       "        vertical-align: top;\n",
       "    }\n",
       "\n",
       "    .dataframe thead th {\n",
       "        text-align: right;\n",
       "    }\n",
       "</style>\n",
       "<table border=\"1\" class=\"dataframe\">\n",
       "  <thead>\n",
       "    <tr style=\"text-align: right;\">\n",
       "      <th></th>\n",
       "      <th>Vent minimum</th>\n",
       "      <th>Vent faible</th>\n",
       "      <th>Vent moyen</th>\n",
       "      <th>Vent fort</th>\n",
       "      <th>Vent maximum</th>\n",
       "    </tr>\n",
       "    <tr>\n",
       "      <th>Date</th>\n",
       "      <th></th>\n",
       "      <th></th>\n",
       "      <th></th>\n",
       "      <th></th>\n",
       "      <th></th>\n",
       "    </tr>\n",
       "  </thead>\n",
       "  <tbody>\n",
       "    <tr>\n",
       "      <th>2019-01-06</th>\n",
       "      <td>1083.067808</td>\n",
       "      <td>2179.698309</td>\n",
       "      <td>3276.622214</td>\n",
       "      <td>5823.291391</td>\n",
       "      <td>8370.079168</td>\n",
       "    </tr>\n",
       "    <tr>\n",
       "      <th>2019-01-13</th>\n",
       "      <td>1083.067808</td>\n",
       "      <td>2179.698309</td>\n",
       "      <td>3276.622214</td>\n",
       "      <td>5823.291391</td>\n",
       "      <td>8370.079168</td>\n",
       "    </tr>\n",
       "    <tr>\n",
       "      <th>2019-01-20</th>\n",
       "      <td>1083.067808</td>\n",
       "      <td>2179.698309</td>\n",
       "      <td>3276.622214</td>\n",
       "      <td>5823.291391</td>\n",
       "      <td>8370.079168</td>\n",
       "    </tr>\n",
       "    <tr>\n",
       "      <th>2019-01-27</th>\n",
       "      <td>1083.067808</td>\n",
       "      <td>2179.698309</td>\n",
       "      <td>3276.622214</td>\n",
       "      <td>5823.291391</td>\n",
       "      <td>8370.079168</td>\n",
       "    </tr>\n",
       "    <tr>\n",
       "      <th>2019-02-03</th>\n",
       "      <td>1383.746490</td>\n",
       "      <td>2364.310977</td>\n",
       "      <td>3344.992848</td>\n",
       "      <td>4838.392035</td>\n",
       "      <td>6332.254915</td>\n",
       "    </tr>\n",
       "  </tbody>\n",
       "</table>\n",
       "</div>"
      ],
      "text/plain": [
       "            Vent minimum  Vent faible   Vent moyen    Vent fort  Vent maximum\n",
       "Date                                                                         \n",
       "2019-01-06   1083.067808  2179.698309  3276.622214  5823.291391   8370.079168\n",
       "2019-01-13   1083.067808  2179.698309  3276.622214  5823.291391   8370.079168\n",
       "2019-01-20   1083.067808  2179.698309  3276.622214  5823.291391   8370.079168\n",
       "2019-01-27   1083.067808  2179.698309  3276.622214  5823.291391   8370.079168\n",
       "2019-02-03   1383.746490  2364.310977  3344.992848  4838.392035   6332.254915"
      ]
     },
     "execution_count": 61,
     "metadata": {},
     "output_type": "execute_result"
    }
   ],
   "source": [
    "predictions_vent = pd.concat(\n",
    "    [predictions_vent_min, predictions_vent_faible, predictions_vent_moyen, predictions_vent_fort, predictions_vent_max],\n",
    "    axis=1\n",
    "    )\n",
    "predictions_vent = predictions_vent.rename(\n",
    "    {\n",
    "        'Vent_min':'Vent minimum',\n",
    "        'Vent_faible':'Vent faible',\n",
    "        'Vent_moyen':'Vent moyen',\n",
    "        'Vent_fort':'Vent fort',\n",
    "        'Vent_max':'Vent maximum'\n",
    "        },\n",
    "        axis=1\n",
    "        )\n",
    "predictions_vent.head()"
   ]
  },
  {
   "cell_type": "markdown",
   "metadata": {},
   "source": [
    "### Ecriture des prédictions"
   ]
  },
  {
   "cell_type": "code",
   "execution_count": 63,
   "metadata": {},
   "outputs": [],
   "source": [
    "os.chdir(repertoire_data)\n",
    "\n",
    "predictions_vent = predictions_vent.set_index(np.arange(0, 52, 1))\n",
    "predictions_vent.to_csv(\n",
    "    'predictions_vent.csv',\n",
    "    sep=';',\n",
    "    )"
   ]
  }
 ],
 "metadata": {
  "kernelspec": {
   "display_name": "Python 3.9.11 ('base')",
   "language": "python",
   "name": "python3"
  },
  "language_info": {
   "codemirror_mode": {
    "name": "ipython",
    "version": 3
   },
   "file_extension": ".py",
   "mimetype": "text/x-python",
   "name": "python",
   "nbconvert_exporter": "python",
   "pygments_lexer": "ipython3",
   "version": "3.9.11"
  },
  "orig_nbformat": 4,
  "vscode": {
   "interpreter": {
    "hash": "d12e26f72a40d5c48233c54861fca038d6a92135fc0e5e920944e69c69b6b29d"
   }
  }
 },
 "nbformat": 4,
 "nbformat_minor": 2
}
